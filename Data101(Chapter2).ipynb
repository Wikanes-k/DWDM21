{
  "nbformat": 4,
  "nbformat_minor": 0,
  "metadata": {
    "colab": {
      "name": "Data101(Chapter2).ipynb",
      "provenance": [],
      "include_colab_link": true
    },
    "kernelspec": {
      "name": "python3",
      "display_name": "Python 3"
    },
    "language_info": {
      "name": "python"
    }
  },
  "cells": [
    {
      "cell_type": "markdown",
      "metadata": {
        "id": "view-in-github",
        "colab_type": "text"
      },
      "source": [
        "<a href=\"https://colab.research.google.com/github/Wikanes-k/DWDM21/blob/main/Data101(Chapter2).ipynb\" target=\"_parent\"><img src=\"https://colab.research.google.com/assets/colab-badge.svg\" alt=\"Open In Colab\"/></a>"
      ]
    },
    {
      "cell_type": "markdown",
      "metadata": {
        "id": "Mdn1L8RSz0UB"
      },
      "source": [
        "ข้อความที่อยู่ text box จะเป็น ภาษา markdown"
      ]
    },
    {
      "cell_type": "markdown",
      "metadata": {
        "id": "kZWdO8Z4tqu6"
      },
      "source": [
        "ข้อดีหนึ่งของ Python คือมี package สำหรับทำงานต่างๆมากมาย\n",
        "\n",
        "ซึ่ง pandas เป็น package สำหรับการทำงานกับข้อมูลที่อยู่ในรูปแบบตาราง\n",
        "\n",
        "โดย pandas จะเรียกตารางนั้นว่า dataframe"
      ]
    },
    {
      "cell_type": "code",
      "metadata": {
        "id": "B5EoXvK9sjya"
      },
      "source": [
        "import pandas #วิธีเรียกใช้ package คือ import ตามด้วยชื่อ package"
      ],
      "execution_count": 1,
      "outputs": []
    },
    {
      "cell_type": "code",
      "metadata": {
        "id": "zMVQDBPRtApF"
      },
      "source": [
        "import pandas as pd #เหมือนกับข้างบนแต่ว่า ตั้งชื่อให้ package ที่โหลดมาใหม่ว่า pd"
      ],
      "execution_count": 2,
      "outputs": []
    },
    {
      "cell_type": "markdown",
      "metadata": {
        "id": "9Qkk1ldiu1_Y"
      },
      "source": [
        "ไฟล์ .csv (csv = comma separated values) เป็นไฟล์หลักที่เราจะได้ใช้กันในวิชานี้"
      ]
    },
    {
      "cell_type": "code",
      "metadata": {
        "id": "ZujQK8S5uehN"
      },
      "source": [
        "data_df = pd.read_csv('data.csv') #ชื่อpackage.ฟังชัน(ชื่อไฟล์)"
      ],
      "execution_count": 3,
      "outputs": []
    },
    {
      "cell_type": "code",
      "metadata": {
        "colab": {
          "base_uri": "https://localhost:8080/",
          "height": 142
        },
        "id": "rvPqgU4pxRSl",
        "outputId": "e1deeb78-fb7d-4288-bf7e-76020a80404f"
      },
      "source": [
        "data_df"
      ],
      "execution_count": 4,
      "outputs": [
        {
          "output_type": "execute_result",
          "data": {
            "text/html": [
              "<div>\n",
              "<style scoped>\n",
              "    .dataframe tbody tr th:only-of-type {\n",
              "        vertical-align: middle;\n",
              "    }\n",
              "\n",
              "    .dataframe tbody tr th {\n",
              "        vertical-align: top;\n",
              "    }\n",
              "\n",
              "    .dataframe thead th {\n",
              "        text-align: right;\n",
              "    }\n",
              "</style>\n",
              "<table border=\"1\" class=\"dataframe\">\n",
              "  <thead>\n",
              "    <tr style=\"text-align: right;\">\n",
              "      <th></th>\n",
              "      <th>name</th>\n",
              "      <th>age</th>\n",
              "      <th>city</th>\n",
              "    </tr>\n",
              "  </thead>\n",
              "  <tbody>\n",
              "    <tr>\n",
              "      <th>0</th>\n",
              "      <td>Tom</td>\n",
              "      <td>27</td>\n",
              "      <td>Khon Kaen</td>\n",
              "    </tr>\n",
              "    <tr>\n",
              "      <th>1</th>\n",
              "      <td>Paul</td>\n",
              "      <td>15</td>\n",
              "      <td>Bangkpk</td>\n",
              "    </tr>\n",
              "    <tr>\n",
              "      <th>2</th>\n",
              "      <td>Sarah</td>\n",
              "      <td>49</td>\n",
              "      <td>London</td>\n",
              "    </tr>\n",
              "  </tbody>\n",
              "</table>\n",
              "</div>"
            ],
            "text/plain": [
              "    name  age       city\n",
              "0    Tom   27  Khon Kaen\n",
              "1   Paul   15    Bangkpk\n",
              "2  Sarah   49     London"
            ]
          },
          "metadata": {
            "tags": []
          },
          "execution_count": 4
        }
      ]
    },
    {
      "cell_type": "code",
      "metadata": {
        "colab": {
          "base_uri": "https://localhost:8080/",
          "height": 142
        },
        "id": "K-ZqNCfrxTS0",
        "outputId": "af4bfd79-081b-4c1d-9b22-8d55266a035d"
      },
      "source": [
        "data_df2 = pd.read_csv('data.csv')   #ภายใน1เซลสามารถพิมได้2บรรทัด\n",
        "data_df2"
      ],
      "execution_count": 5,
      "outputs": [
        {
          "output_type": "execute_result",
          "data": {
            "text/html": [
              "<div>\n",
              "<style scoped>\n",
              "    .dataframe tbody tr th:only-of-type {\n",
              "        vertical-align: middle;\n",
              "    }\n",
              "\n",
              "    .dataframe tbody tr th {\n",
              "        vertical-align: top;\n",
              "    }\n",
              "\n",
              "    .dataframe thead th {\n",
              "        text-align: right;\n",
              "    }\n",
              "</style>\n",
              "<table border=\"1\" class=\"dataframe\">\n",
              "  <thead>\n",
              "    <tr style=\"text-align: right;\">\n",
              "      <th></th>\n",
              "      <th>name</th>\n",
              "      <th>age</th>\n",
              "      <th>city</th>\n",
              "    </tr>\n",
              "  </thead>\n",
              "  <tbody>\n",
              "    <tr>\n",
              "      <th>0</th>\n",
              "      <td>Tom</td>\n",
              "      <td>27</td>\n",
              "      <td>Khon Kaen</td>\n",
              "    </tr>\n",
              "    <tr>\n",
              "      <th>1</th>\n",
              "      <td>Paul</td>\n",
              "      <td>15</td>\n",
              "      <td>Bangkpk</td>\n",
              "    </tr>\n",
              "    <tr>\n",
              "      <th>2</th>\n",
              "      <td>Sarah</td>\n",
              "      <td>49</td>\n",
              "      <td>London</td>\n",
              "    </tr>\n",
              "  </tbody>\n",
              "</table>\n",
              "</div>"
            ],
            "text/plain": [
              "    name  age       city\n",
              "0    Tom   27  Khon Kaen\n",
              "1   Paul   15    Bangkpk\n",
              "2  Sarah   49     London"
            ]
          },
          "metadata": {
            "tags": []
          },
          "execution_count": 5
        }
      ]
    },
    {
      "cell_type": "markdown",
      "metadata": {
        "id": "A7aZWOBbzo9_"
      },
      "source": [
        "#Basic Python\n",
        "##variables ตัวแปร กล่องที่ไว้ใส่ข้อมูล"
      ]
    },
    {
      "cell_type": "markdown",
      "metadata": {
        "id": "j6D4tr551m3E"
      },
      "source": [
        "ข้อกหนดในการตั้งชื่อตัวแปร\n",
        "\n",
        "1.   ชื่อห้ามมีเว้นวรรค\n",
        "2.   ใช้ภาษาอังกฤษ\n",
        "3.   ตัวเล็กกับตัวใหญ่แตกต่างกัน (case sensitive)\n",
        "4.   ห้ามใช้ตัวเลขเป็นตัวหน้า\n",
        "\n"
      ]
    },
    {
      "cell_type": "code",
      "metadata": {
        "id": "8XR5fWcQyShR"
      },
      "source": [
        "variable_a = 12\n",
        "variable_b = 'abcde'  # ' เรียกว่า quote\n",
        "variable_c = variable_a"
      ],
      "execution_count": 6,
      "outputs": []
    },
    {
      "cell_type": "code",
      "metadata": {
        "colab": {
          "base_uri": "https://localhost:8080/"
        },
        "id": "fGUAvgxT1L3D",
        "outputId": "7a01708c-d05f-4cd0-cc03-e42e7a1a912d"
      },
      "source": [
        "variable_a"
      ],
      "execution_count": 7,
      "outputs": [
        {
          "output_type": "execute_result",
          "data": {
            "text/plain": [
              "12"
            ]
          },
          "metadata": {
            "tags": []
          },
          "execution_count": 7
        }
      ]
    },
    {
      "cell_type": "code",
      "metadata": {
        "colab": {
          "base_uri": "https://localhost:8080/",
          "height": 35
        },
        "id": "F-bQAVPD1OhX",
        "outputId": "d719e166-12a7-4937-883f-f7ab80b7eec6"
      },
      "source": [
        "variable_b"
      ],
      "execution_count": 8,
      "outputs": [
        {
          "output_type": "execute_result",
          "data": {
            "application/vnd.google.colaboratory.intrinsic+json": {
              "type": "string"
            },
            "text/plain": [
              "'abcde'"
            ]
          },
          "metadata": {
            "tags": []
          },
          "execution_count": 8
        }
      ]
    },
    {
      "cell_type": "code",
      "metadata": {
        "colab": {
          "base_uri": "https://localhost:8080/"
        },
        "id": "emm8Lyni1P6X",
        "outputId": "f38c67d2-1629-4620-a1b0-531513fef1e3"
      },
      "source": [
        "variable_c"
      ],
      "execution_count": 9,
      "outputs": [
        {
          "output_type": "execute_result",
          "data": {
            "text/plain": [
              "12"
            ]
          },
          "metadata": {
            "tags": []
          },
          "execution_count": 9
        }
      ]
    },
    {
      "cell_type": "code",
      "metadata": {
        "colab": {
          "base_uri": "https://localhost:8080/"
        },
        "id": "wNtUCIlu1Rmb",
        "outputId": "856bf49a-eca2-421d-ca76-6f2e61997900"
      },
      "source": [
        "#colab ใช้ภาาาไทยเป็นชื่อตัวแปรได้ แต่ไม่ควรใช้\n",
        "ตัวแปร = 3\n",
        "ตัวแปร "
      ],
      "execution_count": 10,
      "outputs": [
        {
          "output_type": "execute_result",
          "data": {
            "text/plain": [
              "3"
            ]
          },
          "metadata": {
            "tags": []
          },
          "execution_count": 10
        }
      ]
    },
    {
      "cell_type": "code",
      "metadata": {
        "colab": {
          "base_uri": "https://localhost:8080/"
        },
        "id": "0oq9aro-2kxI",
        "outputId": "544972d9-1700-4cf1-f6ea-59b5122d5138"
      },
      "source": [
        "#ตัวเล็กกับตัวใหญ่แตกต่างกัน (case sensitive)\n",
        "v_a = 1\n",
        "V_a = 2\n",
        "print(v_a)\n",
        "print(V_a)"
      ],
      "execution_count": 11,
      "outputs": [
        {
          "output_type": "stream",
          "text": [
            "1\n",
            "2\n"
          ],
          "name": "stdout"
        }
      ]
    },
    {
      "cell_type": "code",
      "metadata": {
        "id": "kGH3-8e_3SQ-"
      },
      "source": [
        "variable_a = 12\n",
        "variable_b = 'abcde'  # ' เรียกว่า quote\n",
        "variable_c = variable_a\n",
        "variable_d = -41.2\n",
        "variable_4 = \"KKU\" # \" เรียกว่า double quote "
      ],
      "execution_count": 12,
      "outputs": []
    },
    {
      "cell_type": "code",
      "metadata": {
        "colab": {
          "base_uri": "https://localhost:8080/"
        },
        "id": "B_eEE8kW4m-G",
        "outputId": "f870cc15-db8e-4a2f-aac5-5ae9269c14d3"
      },
      "source": [
        "variable_x = variable_c + variable_d\n",
        "print(variable_x)"
      ],
      "execution_count": 13,
      "outputs": [
        {
          "output_type": "stream",
          "text": [
            "-29.200000000000003\n"
          ],
          "name": "stdout"
        }
      ]
    },
    {
      "cell_type": "code",
      "metadata": {
        "colab": {
          "base_uri": "https://localhost:8080/"
        },
        "id": "odGwFXsT4dgz",
        "outputId": "604c838f-ef6c-46fb-93e4-1c41ea9475a2"
      },
      "source": [
        "print(variable_b + variable_4)"
      ],
      "execution_count": 14,
      "outputs": [
        {
          "output_type": "stream",
          "text": [
            "abcdeKKU\n"
          ],
          "name": "stdout"
        }
      ]
    },
    {
      "cell_type": "markdown",
      "metadata": {
        "id": "NBb5HYXb7J9M"
      },
      "source": [
        "## Casing int() float() str()"
      ]
    },
    {
      "cell_type": "code",
      "metadata": {
        "colab": {
          "base_uri": "https://localhost:8080/"
        },
        "id": "SP-ehmM-6jZV",
        "outputId": "7fb2eab9-b128-45f8-9258-36ca268ca0cf"
      },
      "source": [
        "print(variable_x)\n",
        "print(int(variable_x))"
      ],
      "execution_count": 15,
      "outputs": [
        {
          "output_type": "stream",
          "text": [
            "-29.200000000000003\n",
            "-29\n"
          ],
          "name": "stdout"
        }
      ]
    },
    {
      "cell_type": "code",
      "metadata": {
        "colab": {
          "base_uri": "https://localhost:8080/"
        },
        "id": "ULkZSQgL7bxv",
        "outputId": "50226e1d-ed7c-42ca-a04e-fdb34cc2a9c0"
      },
      "source": [
        "V_X = str(variable_x)\n",
        "print(V_X)"
      ],
      "execution_count": 16,
      "outputs": [
        {
          "output_type": "stream",
          "text": [
            "-29.200000000000003\n"
          ],
          "name": "stdout"
        }
      ]
    },
    {
      "cell_type": "code",
      "metadata": {
        "colab": {
          "base_uri": "https://localhost:8080/",
          "height": 0
        },
        "id": "7A9QSlgN769v",
        "outputId": "96b28c5d-90c0-4185-c08e-500dd0822efb"
      },
      "source": [
        "V_X  # เป็นstr"
      ],
      "execution_count": 17,
      "outputs": [
        {
          "output_type": "execute_result",
          "data": {
            "application/vnd.google.colaboratory.intrinsic+json": {
              "type": "string"
            },
            "text/plain": [
              "'-29.200000000000003'"
            ]
          },
          "metadata": {
            "tags": []
          },
          "execution_count": 17
        }
      ]
    },
    {
      "cell_type": "code",
      "metadata": {
        "colab": {
          "base_uri": "https://localhost:8080/"
        },
        "id": "fOchB1xx8jnt",
        "outputId": "458ebdf2-5f7a-4c18-a7e8-7f093e14d8f2"
      },
      "source": [
        "float(V_X)  #เปลี่ยนกลับเป็นตัวเลข"
      ],
      "execution_count": 18,
      "outputs": [
        {
          "output_type": "execute_result",
          "data": {
            "text/plain": [
              "-29.200000000000003"
            ]
          },
          "metadata": {
            "tags": []
          },
          "execution_count": 18
        }
      ]
    },
    {
      "cell_type": "markdown",
      "metadata": {
        "id": "IUfM5Pjv9Vpg"
      },
      "source": [
        "## Data Stucture\n",
        "list()"
      ]
    },
    {
      "cell_type": "code",
      "metadata": {
        "id": "vu9gHgOL8nzw"
      },
      "source": [
        "list_a = [1,2,0,'abs'] # [] square brackets\n",
        "list_b = [2,'xyz',list_a,[1,2,0.0]]"
      ],
      "execution_count": 19,
      "outputs": []
    },
    {
      "cell_type": "code",
      "metadata": {
        "colab": {
          "base_uri": "https://localhost:8080/"
        },
        "id": "wXjqMX0199wk",
        "outputId": "aa05f8be-cfb5-4d8b-dd7c-8f019640ad89"
      },
      "source": [
        "list_a"
      ],
      "execution_count": 20,
      "outputs": [
        {
          "output_type": "execute_result",
          "data": {
            "text/plain": [
              "[1, 2, 0, 'abs']"
            ]
          },
          "metadata": {
            "tags": []
          },
          "execution_count": 20
        }
      ]
    },
    {
      "cell_type": "code",
      "metadata": {
        "colab": {
          "base_uri": "https://localhost:8080/"
        },
        "id": "t-xKDMLJ9_RL",
        "outputId": "e4c78fec-a1b0-449b-8611-e8e724772af5"
      },
      "source": [
        "list_b"
      ],
      "execution_count": 21,
      "outputs": [
        {
          "output_type": "execute_result",
          "data": {
            "text/plain": [
              "[2, 'xyz', [1, 2, 0, 'abs'], [1, 2, 0.0]]"
            ]
          },
          "metadata": {
            "tags": []
          },
          "execution_count": 21
        }
      ]
    },
    {
      "cell_type": "code",
      "metadata": {
        "colab": {
          "base_uri": "https://localhost:8080/"
        },
        "id": "6F_PM2BT-BuU",
        "outputId": "d9a79fc1-89de-4330-cedb-79a7352b10e6"
      },
      "source": [
        "len(list_b)  #บอกจำนวนlist"
      ],
      "execution_count": 22,
      "outputs": [
        {
          "output_type": "execute_result",
          "data": {
            "text/plain": [
              "4"
            ]
          },
          "metadata": {
            "tags": []
          },
          "execution_count": 22
        }
      ]
    },
    {
      "cell_type": "code",
      "metadata": {
        "colab": {
          "base_uri": "https://localhost:8080/"
        },
        "id": "pqJvFOki-dtr",
        "outputId": "6915d8e0-5452-479f-c3cc-ab90644592eb"
      },
      "source": [
        "list_b[3] #ชี้ list"
      ],
      "execution_count": 23,
      "outputs": [
        {
          "output_type": "execute_result",
          "data": {
            "text/plain": [
              "[1, 2, 0.0]"
            ]
          },
          "metadata": {
            "tags": []
          },
          "execution_count": 23
        }
      ]
    },
    {
      "cell_type": "code",
      "metadata": {
        "colab": {
          "base_uri": "https://localhost:8080/"
        },
        "id": "ioHBAi88-iv8",
        "outputId": "77e7c5b1-ebd9-46fd-8616-76591dd4bb6d"
      },
      "source": [
        "list_b[3][1]"
      ],
      "execution_count": 24,
      "outputs": [
        {
          "output_type": "execute_result",
          "data": {
            "text/plain": [
              "2"
            ]
          },
          "metadata": {
            "tags": []
          },
          "execution_count": 24
        }
      ]
    },
    {
      "cell_type": "markdown",
      "metadata": {
        "id": "1E_mGDcE-6JB"
      },
      "source": [
        "string คือ list ของตัวหนังสือ"
      ]
    },
    {
      "cell_type": "code",
      "metadata": {
        "id": "B2jhqLQ1-uEi"
      },
      "source": [
        "a = 'Stat KKU'"
      ],
      "execution_count": 25,
      "outputs": []
    },
    {
      "cell_type": "code",
      "metadata": {
        "colab": {
          "base_uri": "https://localhost:8080/",
          "height": 0
        },
        "id": "XZ9-BdEA_Ftg",
        "outputId": "b67e3ddb-82bf-423b-ca52-3b65cf98e1d5"
      },
      "source": [
        "a[4]"
      ],
      "execution_count": 26,
      "outputs": [
        {
          "output_type": "execute_result",
          "data": {
            "application/vnd.google.colaboratory.intrinsic+json": {
              "type": "string"
            },
            "text/plain": [
              "' '"
            ]
          },
          "metadata": {
            "tags": []
          },
          "execution_count": 26
        }
      ]
    },
    {
      "cell_type": "markdown",
      "metadata": {
        "id": "xvMhevaa_xYI"
      },
      "source": [
        "##วิธีสร้าง list ว่าง"
      ]
    },
    {
      "cell_type": "code",
      "metadata": {
        "id": "H7mYubdB_JrX"
      },
      "source": [
        "list_c = list() #แบบที่1\n",
        "list_d =[] #แบบที่2"
      ],
      "execution_count": 27,
      "outputs": []
    },
    {
      "cell_type": "code",
      "metadata": {
        "colab": {
          "base_uri": "https://localhost:8080/"
        },
        "id": "baq0i_HZAAHj",
        "outputId": "d19493f2-753c-41b4-db35-59ee95dbaa0f"
      },
      "source": [
        "list_c"
      ],
      "execution_count": 28,
      "outputs": [
        {
          "output_type": "execute_result",
          "data": {
            "text/plain": [
              "[]"
            ]
          },
          "metadata": {
            "tags": []
          },
          "execution_count": 28
        }
      ]
    },
    {
      "cell_type": "code",
      "metadata": {
        "colab": {
          "base_uri": "https://localhost:8080/"
        },
        "id": "th7ExPVxACJo",
        "outputId": "7715e318-c878-40c8-c020-8f86b83cca5d"
      },
      "source": [
        "list_d"
      ],
      "execution_count": 29,
      "outputs": [
        {
          "output_type": "execute_result",
          "data": {
            "text/plain": [
              "[]"
            ]
          },
          "metadata": {
            "tags": []
          },
          "execution_count": 29
        }
      ]
    },
    {
      "cell_type": "markdown",
      "metadata": {
        "id": "gEBgAgicApRc"
      },
      "source": [
        "เติมคำลงไปใน list (.append())"
      ]
    },
    {
      "cell_type": "code",
      "metadata": {
        "id": "iL26kphOADob"
      },
      "source": [
        "list_d.append('a')"
      ],
      "execution_count": 30,
      "outputs": []
    },
    {
      "cell_type": "code",
      "metadata": {
        "colab": {
          "base_uri": "https://localhost:8080/"
        },
        "id": "XtlMrH2wA06r",
        "outputId": "d33feae9-28f1-4114-8686-4f8182ff6ae2"
      },
      "source": [
        "list_d"
      ],
      "execution_count": 31,
      "outputs": [
        {
          "output_type": "execute_result",
          "data": {
            "text/plain": [
              "['a']"
            ]
          },
          "metadata": {
            "tags": []
          },
          "execution_count": 31
        }
      ]
    },
    {
      "cell_type": "code",
      "metadata": {
        "id": "g0k4JnSxA2ry"
      },
      "source": [
        "list_d.append(56)"
      ],
      "execution_count": 32,
      "outputs": []
    },
    {
      "cell_type": "code",
      "metadata": {
        "colab": {
          "base_uri": "https://localhost:8080/"
        },
        "id": "7Vpyr3XEA8y-",
        "outputId": "291274cb-95bf-44bb-b356-48f743cd69f8"
      },
      "source": [
        "list_d"
      ],
      "execution_count": 33,
      "outputs": [
        {
          "output_type": "execute_result",
          "data": {
            "text/plain": [
              "['a', 56]"
            ]
          },
          "metadata": {
            "tags": []
          },
          "execution_count": 33
        }
      ]
    },
    {
      "cell_type": "markdown",
      "metadata": {
        "id": "Ba7fvmzHBE7T"
      },
      "source": [
        "####การชี้ค่าใน list (indexing)\n",
        "\n",
        "1.   ใช้ลำดับในการชี้\n",
        "2.   ลำดับเริ่มจาก 0\n",
        "3.  สามารถชี้จากข้างหลังได้โดยใช้ negative index\n",
        "\n"
      ]
    },
    {
      "cell_type": "code",
      "metadata": {
        "colab": {
          "base_uri": "https://localhost:8080/"
        },
        "id": "9QLxXHrHA-Iv",
        "outputId": "305cd04f-516a-42d0-c10b-0bb7642f9aef"
      },
      "source": [
        "list_b"
      ],
      "execution_count": 34,
      "outputs": [
        {
          "output_type": "execute_result",
          "data": {
            "text/plain": [
              "[2, 'xyz', [1, 2, 0, 'abs'], [1, 2, 0.0]]"
            ]
          },
          "metadata": {
            "tags": []
          },
          "execution_count": 34
        }
      ]
    },
    {
      "cell_type": "code",
      "metadata": {
        "colab": {
          "base_uri": "https://localhost:8080/"
        },
        "id": "l-sZpYrRBdUF",
        "outputId": "9b055f8e-721a-4250-a97a-c8607b91051f"
      },
      "source": [
        "list_b[-1] #ชี้จากข้างหลัง"
      ],
      "execution_count": 35,
      "outputs": [
        {
          "output_type": "execute_result",
          "data": {
            "text/plain": [
              "[1, 2, 0.0]"
            ]
          },
          "metadata": {
            "tags": []
          },
          "execution_count": 35
        }
      ]
    },
    {
      "cell_type": "markdown",
      "metadata": {
        "id": "7jeOjpHYCO5i"
      },
      "source": [
        "###list slicing เฉือนlist"
      ]
    },
    {
      "cell_type": "code",
      "metadata": {
        "id": "yV_xF7C2Bfv4"
      },
      "source": [
        "list_ex = [1,2,3,5,6,8,-1,20,50,0]"
      ],
      "execution_count": 36,
      "outputs": []
    },
    {
      "cell_type": "markdown",
      "metadata": {
        "id": "tJzjV4BkC8Ag"
      },
      "source": [
        "เราจะตัดlist โดยเอาตั้งแต่ [ตัวหน้า:ตัวก่อนตัวหลัง]\n",
        "\n",
        "ถ้าเป็นสัญลักษณ์คณิตศาสตร์[ตัวหน้า:ตัวหลัง]->[ตัวหน้า,ตัวหลัง)"
      ]
    },
    {
      "cell_type": "code",
      "metadata": {
        "colab": {
          "base_uri": "https://localhost:8080/"
        },
        "id": "sdYsS-IbCY6V",
        "outputId": "451184b4-0196-4cf7-faac-11e1559c2d0d"
      },
      "source": [
        "list_ex[1:6]  "
      ],
      "execution_count": 37,
      "outputs": [
        {
          "output_type": "execute_result",
          "data": {
            "text/plain": [
              "[2, 3, 5, 6, 8]"
            ]
          },
          "metadata": {
            "tags": []
          },
          "execution_count": 37
        }
      ]
    },
    {
      "cell_type": "code",
      "metadata": {
        "colab": {
          "base_uri": "https://localhost:8080/"
        },
        "id": "kBRhK1I7Cjay",
        "outputId": "01ee9ab4-b2a2-45a7-c0e3-3ee198718b11"
      },
      "source": [
        "list_ex[4:]   #ตัวที่4 ถึงตัวท้าย"
      ],
      "execution_count": 38,
      "outputs": [
        {
          "output_type": "execute_result",
          "data": {
            "text/plain": [
              "[6, 8, -1, 20, 50, 0]"
            ]
          },
          "metadata": {
            "tags": []
          },
          "execution_count": 38
        }
      ]
    },
    {
      "cell_type": "code",
      "metadata": {
        "colab": {
          "base_uri": "https://localhost:8080/"
        },
        "id": "u7nNo1DUDhKd",
        "outputId": "85aab09c-e1ec-48d0-f126-8c3aced8bbec"
      },
      "source": [
        "list_ex[:6]   #ตัวแรกถึงตัวก่อนตัวที่6"
      ],
      "execution_count": 39,
      "outputs": [
        {
          "output_type": "execute_result",
          "data": {
            "text/plain": [
              "[1, 2, 3, 5, 6, 8]"
            ]
          },
          "metadata": {
            "tags": []
          },
          "execution_count": 39
        }
      ]
    },
    {
      "cell_type": "markdown",
      "metadata": {
        "id": "Cm2CM4tWEJ_R"
      },
      "source": [
        "[จุดเริ่มต้น:จุดสุดท้าย:step]"
      ]
    },
    {
      "cell_type": "code",
      "metadata": {
        "colab": {
          "base_uri": "https://localhost:8080/"
        },
        "id": "1QFPS_IwDkEb",
        "outputId": "aa23cc9e-8035-40d3-d1c4-5db7c7b4eaa7"
      },
      "source": [
        "list_ex[::2] "
      ],
      "execution_count": 40,
      "outputs": [
        {
          "output_type": "execute_result",
          "data": {
            "text/plain": [
              "[1, 3, 6, -1, 50]"
            ]
          },
          "metadata": {
            "tags": []
          },
          "execution_count": 40
        }
      ]
    },
    {
      "cell_type": "code",
      "metadata": {
        "colab": {
          "base_uri": "https://localhost:8080/"
        },
        "id": "HTSNj0c5ED8c",
        "outputId": "4c9a6bbb-fd84-42b1-ae8b-a60dc76fd586"
      },
      "source": [
        "list_ex[::-1]  #การกลับ list"
      ],
      "execution_count": 41,
      "outputs": [
        {
          "output_type": "execute_result",
          "data": {
            "text/plain": [
              "[0, 50, 20, -1, 8, 6, 5, 3, 2, 1]"
            ]
          },
          "metadata": {
            "tags": []
          },
          "execution_count": 41
        }
      ]
    },
    {
      "cell_type": "code",
      "metadata": {
        "colab": {
          "base_uri": "https://localhost:8080/",
          "height": 0
        },
        "id": "xLV8OcDLErCI",
        "outputId": "0cb76426-baf0-403c-b7ed-394635915331"
      },
      "source": [
        "a"
      ],
      "execution_count": 42,
      "outputs": [
        {
          "output_type": "execute_result",
          "data": {
            "application/vnd.google.colaboratory.intrinsic+json": {
              "type": "string"
            },
            "text/plain": [
              "'Stat KKU'"
            ]
          },
          "metadata": {
            "tags": []
          },
          "execution_count": 42
        }
      ]
    },
    {
      "cell_type": "code",
      "metadata": {
        "colab": {
          "base_uri": "https://localhost:8080/",
          "height": 0
        },
        "id": "Kdh-tWQWE_If",
        "outputId": "d15cdbf7-9ad1-4a3f-ce95-99a5615e861a"
      },
      "source": [
        "a[-3:]\n",
        "a[5:8]\n",
        "a[5::]\n",
        "a[-3::]\n",
        "a[-3::1]"
      ],
      "execution_count": 43,
      "outputs": [
        {
          "output_type": "execute_result",
          "data": {
            "application/vnd.google.colaboratory.intrinsic+json": {
              "type": "string"
            },
            "text/plain": [
              "'KKU'"
            ]
          },
          "metadata": {
            "tags": []
          },
          "execution_count": 43
        }
      ]
    },
    {
      "cell_type": "markdown",
      "metadata": {
        "id": "NSASizFWHF4g"
      },
      "source": [
        "##list+list"
      ]
    },
    {
      "cell_type": "code",
      "metadata": {
        "colab": {
          "base_uri": "https://localhost:8080/"
        },
        "id": "eU_6JX_tF__F",
        "outputId": "2168c867-25f5-4d55-f388-8b71bdf96c60"
      },
      "source": [
        "print(list_a)\n",
        "print(list_b)"
      ],
      "execution_count": 44,
      "outputs": [
        {
          "output_type": "stream",
          "text": [
            "[1, 2, 0, 'abs']\n",
            "[2, 'xyz', [1, 2, 0, 'abs'], [1, 2, 0.0]]\n"
          ],
          "name": "stdout"
        }
      ]
    },
    {
      "cell_type": "code",
      "metadata": {
        "colab": {
          "base_uri": "https://localhost:8080/"
        },
        "id": "pLWvrKu-HOgl",
        "outputId": "48d7def0-f54c-4c58-d362-cc3a2cec5aba"
      },
      "source": [
        "list_a + list_b"
      ],
      "execution_count": 45,
      "outputs": [
        {
          "output_type": "execute_result",
          "data": {
            "text/plain": [
              "[1, 2, 0, 'abs', 2, 'xyz', [1, 2, 0, 'abs'], [1, 2, 0.0]]"
            ]
          },
          "metadata": {
            "tags": []
          },
          "execution_count": 45
        }
      ]
    },
    {
      "cell_type": "markdown",
      "metadata": {
        "id": "bfXo8uedLU99"
      },
      "source": [
        "format string"
      ]
    },
    {
      "cell_type": "markdown",
      "metadata": {
        "id": "C5WBba2wL1E6"
      },
      "source": [
        "```python\n",
        "f'string{ตัวแปร}'\n",
        "```"
      ]
    },
    {
      "cell_type": "markdown",
      "metadata": {
        "id": "z0IFGEBzMOPA"
      },
      "source": [
        "{} เรียกว่า curly brackets"
      ]
    },
    {
      "cell_type": "code",
      "metadata": {
        "colab": {
          "base_uri": "https://localhost:8080/",
          "height": 0
        },
        "id": "fGRkVBZQLXem",
        "outputId": "090daa78-f0f5-40b0-8b57-6fb97bd41b05"
      },
      "source": [
        "f'ตัวแปร list_a มีค่าคือ {list_a}'"
      ],
      "execution_count": 46,
      "outputs": [
        {
          "output_type": "execute_result",
          "data": {
            "application/vnd.google.colaboratory.intrinsic+json": {
              "type": "string"
            },
            "text/plain": [
              "\"ตัวแปร list_a มีค่าคือ [1, 2, 0, 'abs']\""
            ]
          },
          "metadata": {
            "tags": []
          },
          "execution_count": 46
        }
      ]
    },
    {
      "cell_type": "markdown",
      "metadata": {
        "id": "IS-Z6pWbHsMN"
      },
      "source": [
        "#Loop"
      ]
    },
    {
      "cell_type": "markdown",
      "metadata": {
        "id": "u47mLm-hBo4v"
      },
      "source": [
        "ทำงานซ้ำ หรือ ทำงานคล้ายๆกัน"
      ]
    },
    {
      "cell_type": "markdown",
      "metadata": {
        "id": "GnEs8HbLKdFQ"
      },
      "source": [
        "indent\n",
        "```python\n",
        "for ตัวแปรที่จะรับค่าจากลิสต์ in ลิสต์ที่จะนำมาวนลูป :\n",
        "  do something  #in_loop\n",
        "  do another thing  #in loop\n",
        "\n",
        "do other thing #out side loop\n",
        "```"
      ]
    },
    {
      "cell_type": "code",
      "metadata": {
        "colab": {
          "base_uri": "https://localhost:8080/"
        },
        "id": "fKKgC_iWJq23",
        "outputId": "0cb7e4ba-2e61-4f29-a831-2c29fe983996"
      },
      "source": [
        "for i in [1,2,3,4,5]:   #iคือ123 print i+1=234\n",
        "  print(i+1)"
      ],
      "execution_count": 47,
      "outputs": [
        {
          "output_type": "stream",
          "text": [
            "2\n",
            "3\n",
            "4\n",
            "5\n",
            "6\n"
          ],
          "name": "stdout"
        }
      ]
    },
    {
      "cell_type": "code",
      "metadata": {
        "colab": {
          "base_uri": "https://localhost:8080/"
        },
        "id": "B-U19MeHMZlf",
        "outputId": "13f4faf8-790b-4609-8c28-c22e9d66ed11"
      },
      "source": [
        "for x in [1,2,3,4,5]:\n",
        "  print(f'ตัวแปร x ตือ {x} และ x+2={x+2}')"
      ],
      "execution_count": 48,
      "outputs": [
        {
          "output_type": "stream",
          "text": [
            "ตัวแปร x ตือ 1 และ x+2=3\n",
            "ตัวแปร x ตือ 2 และ x+2=4\n",
            "ตัวแปร x ตือ 3 และ x+2=5\n",
            "ตัวแปร x ตือ 4 และ x+2=6\n",
            "ตัวแปร x ตือ 5 และ x+2=7\n"
          ],
          "name": "stdout"
        }
      ]
    },
    {
      "cell_type": "code",
      "metadata": {
        "colab": {
          "base_uri": "https://localhost:8080/"
        },
        "id": "GkYPkpJSM6Ee",
        "outputId": "313f3e6e-a828-4bcf-f1c4-e5e895a130e3"
      },
      "source": [
        "list5=[1,2,3,4,5]\n",
        "for x in list5:\n",
        "  print(f'ตัวแปร x ตือ {x} และ x+2={x+2}')"
      ],
      "execution_count": 49,
      "outputs": [
        {
          "output_type": "stream",
          "text": [
            "ตัวแปร x ตือ 1 และ x+2=3\n",
            "ตัวแปร x ตือ 2 และ x+2=4\n",
            "ตัวแปร x ตือ 3 และ x+2=5\n",
            "ตัวแปร x ตือ 4 และ x+2=6\n",
            "ตัวแปร x ตือ 5 และ x+2=7\n"
          ],
          "name": "stdout"
        }
      ]
    },
    {
      "cell_type": "code",
      "metadata": {
        "colab": {
          "base_uri": "https://localhost:8080/"
        },
        "id": "xIBFt0xLNJvc",
        "outputId": "9358c1f5-67f8-41d7-ab23-415bcce128e3"
      },
      "source": [
        "list(range(10))  #สร้างค่าตั้งแต่0ถึง9"
      ],
      "execution_count": 50,
      "outputs": [
        {
          "output_type": "execute_result",
          "data": {
            "text/plain": [
              "[0, 1, 2, 3, 4, 5, 6, 7, 8, 9]"
            ]
          },
          "metadata": {
            "tags": []
          },
          "execution_count": 50
        }
      ]
    },
    {
      "cell_type": "code",
      "metadata": {
        "colab": {
          "base_uri": "https://localhost:8080/"
        },
        "id": "tUEeGtBtNTTs",
        "outputId": "4bcd78f6-19e7-42e9-e43d-8f07a6a5103f"
      },
      "source": [
        "for i in range(2,7):\n",
        "  print(i)"
      ],
      "execution_count": 51,
      "outputs": [
        {
          "output_type": "stream",
          "text": [
            "2\n",
            "3\n",
            "4\n",
            "5\n",
            "6\n"
          ],
          "name": "stdout"
        }
      ]
    },
    {
      "cell_type": "code",
      "metadata": {
        "colab": {
          "base_uri": "https://localhost:8080/"
        },
        "id": "S4FwJq2EN7us",
        "outputId": "94277945-7f88-4f07-9672-754aaade8651"
      },
      "source": [
        "for i in range(2,7,2):\n",
        "  print(i)"
      ],
      "execution_count": 52,
      "outputs": [
        {
          "output_type": "stream",
          "text": [
            "2\n",
            "4\n",
            "6\n"
          ],
          "name": "stdout"
        }
      ]
    },
    {
      "cell_type": "code",
      "metadata": {
        "colab": {
          "base_uri": "https://localhost:8080/"
        },
        "id": "eyKCGdY0OUnz",
        "outputId": "12914a6b-56d6-4ac7-f7c3-7dc96fb8e18b"
      },
      "source": [
        "for i in range(5):\n",
        "  print('hahaha')\n",
        "  x = i + 3\n",
        "  print(f'i={i} x={x}')"
      ],
      "execution_count": 53,
      "outputs": [
        {
          "output_type": "stream",
          "text": [
            "hahaha\n",
            "i=0 x=3\n",
            "hahaha\n",
            "i=1 x=4\n",
            "hahaha\n",
            "i=2 x=5\n",
            "hahaha\n",
            "i=3 x=6\n",
            "hahaha\n",
            "i=4 x=7\n"
          ],
          "name": "stdout"
        }
      ]
    },
    {
      "cell_type": "markdown",
      "metadata": {
        "id": "oCFiBH9EPG9y"
      },
      "source": [
        "###Nested loop ลูปซ้อนลูป"
      ]
    },
    {
      "cell_type": "code",
      "metadata": {
        "colab": {
          "base_uri": "https://localhost:8080/"
        },
        "id": "DWw-aVX8Oe41",
        "outputId": "e8792a61-ba72-4f40-c03e-99810ba14ec6"
      },
      "source": [
        "for i in range(3):\n",
        "  print(f'now i = {i}')\n",
        "  print('start j loop')\n",
        "  for j in range(4):\n",
        "    print(f'i = {i} j = {j} i+j = {i+j}')\n",
        "    print('end j loop')"
      ],
      "execution_count": 54,
      "outputs": [
        {
          "output_type": "stream",
          "text": [
            "now i = 0\n",
            "start j loop\n",
            "i = 0 j = 0 i+j = 0\n",
            "end j loop\n",
            "i = 0 j = 1 i+j = 1\n",
            "end j loop\n",
            "i = 0 j = 2 i+j = 2\n",
            "end j loop\n",
            "i = 0 j = 3 i+j = 3\n",
            "end j loop\n",
            "now i = 1\n",
            "start j loop\n",
            "i = 1 j = 0 i+j = 1\n",
            "end j loop\n",
            "i = 1 j = 1 i+j = 2\n",
            "end j loop\n",
            "i = 1 j = 2 i+j = 3\n",
            "end j loop\n",
            "i = 1 j = 3 i+j = 4\n",
            "end j loop\n",
            "now i = 2\n",
            "start j loop\n",
            "i = 2 j = 0 i+j = 2\n",
            "end j loop\n",
            "i = 2 j = 1 i+j = 3\n",
            "end j loop\n",
            "i = 2 j = 2 i+j = 4\n",
            "end j loop\n",
            "i = 2 j = 3 i+j = 5\n",
            "end j loop\n"
          ],
          "name": "stdout"
        }
      ]
    },
    {
      "cell_type": "markdown",
      "metadata": {
        "id": "b2eEddZSJn87"
      },
      "source": [
        "##Condition (if statement) เงือนไข"
      ]
    },
    {
      "cell_type": "markdown",
      "metadata": {
        "id": "S1TEgIy2FluK"
      },
      "source": [
        "```python\n",
        "if เงื่อนไขที่จะตรวจสอบ (โดยใช้สัญลักษณ์==,!=,<,>,<=,>=):\n",
        "    ถ้าเงื่อนไขเป็นจริง ทำงาน 1\n",
        "    ถ้าเงื่อนไขเป็นจริง ทำงาน 2\n",
        "else: #ตรวจสอบเงื่อนไขข้างบนแล้วไม่เป็นจริง\n",
        "    ทำงานที่ x\n",
        "\n",
        "```"
      ]
    },
    {
      "cell_type": "code",
      "metadata": {
        "colab": {
          "base_uri": "https://localhost:8080/"
        },
        "id": "yMI5pJ8IGFK_",
        "outputId": "45a7edf7-c08d-4205-cde2-c05b91fc9267"
      },
      "source": [
        "stringx = 'sa;djakjsdjf;sdjfslk;jdgjghjghjgjkgkhfkj'  #เป็นจริงก็มีข้อมูลออกมา\n",
        "\n",
        "if len(stringx) > 30:\n",
        "  print(f'{stringx} is longer than 30 characters')"
      ],
      "execution_count": 55,
      "outputs": [
        {
          "output_type": "stream",
          "text": [
            "sa;djakjsdjf;sdjfslk;jdgjghjghjgjkgkhfkj is longer than 30 characters\n"
          ],
          "name": "stdout"
        }
      ]
    },
    {
      "cell_type": "code",
      "metadata": {
        "colab": {
          "base_uri": "https://localhost:8080/"
        },
        "id": "Vn2F6RFkG4JK",
        "outputId": "e4c7509f-42c2-4011-c606-64d42d5f9986"
      },
      "source": [
        "stringx = 'sa;djakjsdjf;sdjfslk;jdgjghjghjgjkgkhfkj'   #ไม่เป็นจริงก็ไม่มีข้อมูลออกมา\n",
        "\n",
        "if len(stringx) > 100:\n",
        "  print(f'{stringx} is longer than 30 characters')\n",
        "else:\n",
        "  print(f'{stringx} in {len(stringx)} characters long')  #ถ้าไม่จรริงแล้วให้แสดงจำนวนทั้งหมด"
      ],
      "execution_count": 56,
      "outputs": [
        {
          "output_type": "stream",
          "text": [
            "sa;djakjsdjf;sdjfslk;jdgjghjghjgjkgkhfkj in 40 characters long\n"
          ],
          "name": "stdout"
        }
      ]
    },
    {
      "cell_type": "markdown",
      "metadata": {
        "id": "jMDjhFyRJLEx"
      },
      "source": [
        "```python\n",
        "if เงื่อนไขที่จะตรวจสอบ (โดยใช้สัญลักษณ์==,!=,<,>,<=,>=):\n",
        "    ถ้าเงื่อนไขเป็นจริง ทำงาน 1\n",
        "    ถ้าเงื่อนไขเป็นจริง ทำงาน 2\n",
        "elif เงื่อนไขที่จะตรวจสอบต่อไปถ้าเงื่อนไขข้างบนไม่เป็นจริง:\n",
        "  ถ้าเงื่อนไขเป็นจริง ทำงาน a1\n",
        "  ถ้าเงื่อนไขเป็นจริง ทำงาน a2\n",
        "elif เงื่อนไขที่จะตรวจสอบต่อไปถ้าเงื่อนไขข้างบนไม่เป็นจริง:\n",
        "  ถ้าเงื่อนไขเป็นจริง ทำงาน b1\n",
        "  ถ้าเงื่อนไขเป็นจริง ทำงาน b2\n",
        "else: #ตรวจสอบเงื่อนไขข้างบนแล้วไม่เป็นจริง\n",
        "    ทำงานที่ x\n",
        "```"
      ]
    },
    {
      "cell_type": "code",
      "metadata": {
        "colab": {
          "base_uri": "https://localhost:8080/"
        },
        "id": "u-B8KwzDLF4Q",
        "outputId": "7e1c14e6-625a-4083-e3b4-092d84117609"
      },
      "source": [
        "password = '12345'\n",
        " \n",
        "input_pass = '12355'\n",
        "if input_pass == password:\n",
        "  print('Welcome!')\n",
        "elif len(input_pass) > len(password):\n",
        "  print('Too long, try again')\n",
        "elif len(input_pass) < len(password):\n",
        "  print('Too short, try again')\n",
        "else:\n",
        "  print('Wrong password, try again')"
      ],
      "execution_count": 57,
      "outputs": [
        {
          "output_type": "stream",
          "text": [
            "Wrong password, try again\n"
          ],
          "name": "stdout"
        }
      ]
    },
    {
      "cell_type": "markdown",
      "metadata": {
        "id": "UYXDvNxPK-2L"
      },
      "source": [
        "Quiz 1 หา min"
      ]
    },
    {
      "cell_type": "code",
      "metadata": {
        "id": "U38gp5zRNgWC"
      },
      "source": [
        "list_ex = [1,5,9,-19,-2,0] #หาค่าน้อยที่สุดใน list_ex โดยไม่ใช้ function min (comit ก่อน 10:30 :Quiz1)"
      ],
      "execution_count": 58,
      "outputs": []
    },
    {
      "cell_type": "markdown",
      "metadata": {
        "id": "uR4GZlM-SvRL"
      },
      "source": [
        "เฉลยQuiz1"
      ]
    },
    {
      "cell_type": "code",
      "metadata": {
        "id": "VnDrv_8kSykx",
        "colab": {
          "base_uri": "https://localhost:8080/"
        },
        "outputId": "2d7075ca-8ea6-4d6d-95f5-72a3e5875748"
      },
      "source": [
        "min = 1000000\n",
        "for i in list_ex: \n",
        "  if i < min:\n",
        "    min = i\n",
        "\n",
        "print(min)"
      ],
      "execution_count": 59,
      "outputs": [
        {
          "output_type": "stream",
          "text": [
            "-19\n"
          ],
          "name": "stdout"
        }
      ]
    },
    {
      "cell_type": "code",
      "metadata": {
        "id": "-2IihOv2ULKX",
        "colab": {
          "base_uri": "https://localhost:8080/"
        },
        "outputId": "3bc8441b-2420-4836-b9d0-38b4b305dd63"
      },
      "source": [
        "min = 1000000\n",
        "print(list_ex)\n",
        "for i in list_ex:\n",
        "  print(f'now i = {i}, min = {min}')\n",
        "  print('start codition')\n",
        "  if i < min:\n",
        "    print(f'i < min, update min -> {i}')\n",
        "    min = i\n",
        "  else:\n",
        "    print('i >= min, not update')\n",
        "  print('end codition, go to next i')\n",
        "\n",
        "print(min)"
      ],
      "execution_count": 60,
      "outputs": [
        {
          "output_type": "stream",
          "text": [
            "[1, 5, 9, -19, -2, 0]\n",
            "now i = 1, min = 1000000\n",
            "start codition\n",
            "i < min, update min -> 1\n",
            "end codition, go to next i\n",
            "now i = 5, min = 1\n",
            "start codition\n",
            "i >= min, not update\n",
            "end codition, go to next i\n",
            "now i = 9, min = 1\n",
            "start codition\n",
            "i >= min, not update\n",
            "end codition, go to next i\n",
            "now i = -19, min = 1\n",
            "start codition\n",
            "i < min, update min -> -19\n",
            "end codition, go to next i\n",
            "now i = -2, min = -19\n",
            "start codition\n",
            "i >= min, not update\n",
            "end codition, go to next i\n",
            "now i = 0, min = -19\n",
            "start codition\n",
            "i >= min, not update\n",
            "end codition, go to next i\n",
            "-19\n"
          ],
          "name": "stdout"
        }
      ]
    },
    {
      "cell_type": "code",
      "metadata": {
        "id": "Q2RvJF21Tk5A",
        "colab": {
          "base_uri": "https://localhost:8080/"
        },
        "outputId": "ac2f6f20-cca5-4ce0-e42f-e97a9fb6743a"
      },
      "source": [
        "max = 1   #ค่าmax\n",
        "for i in list_ex:\n",
        "  if i > max:\n",
        "    max = i\n",
        "\n",
        "print(max)"
      ],
      "execution_count": 69,
      "outputs": [
        {
          "output_type": "stream",
          "text": [
            "9\n"
          ],
          "name": "stdout"
        }
      ]
    },
    {
      "cell_type": "markdown",
      "metadata": {
        "id": "GDS6UX5KLDeH"
      },
      "source": [
        "HW3 ตัดเกรด"
      ]
    },
    {
      "cell_type": "code",
      "metadata": {
        "id": "cHoxpbIkNjri"
      },
      "source": [
        "score = [49,65,70,95,82,55,89,20,77,77,81,59,10] #ตัดเกรด คะแนนใน list score (ใช้ if กับ for)"
      ],
      "execution_count": 71,
      "outputs": []
    },
    {
      "cell_type": "markdown",
      "metadata": {
        "id": "tqoyI2RqAI95"
      },
      "source": [
        "ตัดเกรดตามเกณฑ์\n",
        "\n",
        "*   80 - 100 = A\n",
        "*   75 - 79 = B+\n",
        "*   70-74   = B\n",
        "*  65 - 69  = C+\n",
        "*  60 - 64  = C\n",
        "*  55 - 59  = D+\n",
        "*  50 - 54  =D \n",
        "*  49 - 0    = F"
      ]
    },
    {
      "cell_type": "code",
      "metadata": {
        "id": "kVLMV9xJWdSW"
      },
      "source": [
        "# list แต่ละช่วงของเกรด\n",
        "list_A = []\n",
        "list_Bplus = []\n",
        "list_B = []\n",
        "list_Cplus = []\n",
        "list_C = []\n",
        "list_Dplus = []\n",
        "list_D = []\n",
        "list_F = []"
      ],
      "execution_count": 72,
      "outputs": []
    },
    {
      "cell_type": "code",
      "metadata": {
        "id": "ffU8btIOBQFE"
      },
      "source": [
        "# loop ของคะแนนตามช่วง\n",
        "for i in  score[:]:\n",
        "    if i >= 80:\n",
        "      list_A.append(i)   \n",
        "    if 75 <= i <= 79:\n",
        "      list_Bplus.append(i)\n",
        "    if 70 <= i <= 74:\n",
        "      list_B.append(i)\n",
        "    if 65 <= i <= 69:\n",
        "      list_Cplus.append(i)\n",
        "    if 60 <= i <= 64:\n",
        "      list_C.append(i)\n",
        "    if 55 <= i <= 59:\n",
        "      list_Dplus.append(i)\n",
        "    if 50 <= i <= 54:\n",
        "      list_D.append(i)\n",
        "    if i <= 49:\n",
        "      list_F.append(i)"
      ],
      "execution_count": 73,
      "outputs": []
    },
    {
      "cell_type": "code",
      "metadata": {
        "id": "EF2iq0HSCiXW",
        "outputId": "b1e24503-8264-4195-8ef7-a33a550586ca",
        "colab": {
          "base_uri": "https://localhost:8080/"
        }
      },
      "source": [
        "#แสดงเกรดเเละจำนวนคนที่ได้\n",
        "print(f'ได้เกรด A      {len(list_A)}  คน       ได้แก่list  {list_A}')\n",
        "print(f'ได้เกรด B+    {len(list_Bplus)}  คน       ได้แก่list  {list_Bplus}')\n",
        "print(f'ได้เกรด B      {len(list_B)}  คน       ได้แก่list  {list_B}')\n",
        "print(f'ได้เกรด C+    {len(list_Cplus)}  คน       ได้แก่list  {list_Cplus}')\n",
        "print(f'ได้เกรด C      {len(list_C)}  คน       ได้แก่list  {list_C}')\n",
        "print(f'ได้เกรด D+    {len(list_Dplus)}  คน       ได้แก่list  {list_Dplus}')\n",
        "print(f'ได้เกรด D      {len(list_D)}  คน       ได้แก่list  {list_D}')\n",
        "print(f'ได้เกรด F      {len(list_F)}  คน       ได้แก่list  {list_F}')"
      ],
      "execution_count": 78,
      "outputs": [
        {
          "output_type": "stream",
          "text": [
            "ได้เกรด A      4  คน       ได้แก่list  [95, 82, 89, 81]\n",
            "ได้เกรด B+    2  คน       ได้แก่list  [77, 77]\n",
            "ได้เกรด B      1  คน       ได้แก่list  [70]\n",
            "ได้เกรด C+    1  คน       ได้แก่list  [65]\n",
            "ได้เกรด C      0  คน       ได้แก่list  []\n",
            "ได้เกรด D+    2  คน       ได้แก่list  [55, 59]\n",
            "ได้เกรด D      0  คน       ได้แก่list  []\n",
            "ได้เกรด F      3  คน       ได้แก่list  [49, 20, 10]\n"
          ],
          "name": "stdout"
        }
      ]
    },
    {
      "cell_type": "code",
      "metadata": {
        "id": "aCVBIq-dCnrB"
      },
      "source": [
        ""
      ],
      "execution_count": null,
      "outputs": []
    }
  ]
}