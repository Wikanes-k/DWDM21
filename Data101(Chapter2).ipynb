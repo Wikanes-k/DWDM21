{
  "nbformat": 4,
  "nbformat_minor": 0,
  "metadata": {
    "colab": {
      "name": "Data101(Chapter2).ipynb",
      "provenance": [],
      "include_colab_link": true
    },
    "kernelspec": {
      "name": "python3",
      "display_name": "Python 3"
    },
    "language_info": {
      "name": "python"
    }
  },
  "cells": [
    {
      "cell_type": "markdown",
      "metadata": {
        "id": "view-in-github",
        "colab_type": "text"
      },
      "source": [
        "<a href=\"https://colab.research.google.com/github/Wikanes-k/DWDM21/blob/main/Data101(Chapter2).ipynb\" target=\"_parent\"><img src=\"https://colab.research.google.com/assets/colab-badge.svg\" alt=\"Open In Colab\"/></a>"
      ]
    },
    {
      "cell_type": "markdown",
      "metadata": {
        "id": "Mdn1L8RSz0UB"
      },
      "source": [
        "ข้อความที่อยู่ text box จะเป็น ภาษา markdown"
      ]
    },
    {
      "cell_type": "markdown",
      "metadata": {
        "id": "kZWdO8Z4tqu6"
      },
      "source": [
        "ข้อดีหนึ่งของ Python คือมี package สำหรับทำงานต่างๆมากมาย\n",
        "\n",
        "ซึ่ง pandas เป็น package สำหรับการทำงานกับข้อมูลที่อยู่ในรูปแบบตาราง\n",
        "\n",
        "โดย pandas จะเรียกตารางนั้นว่า dataframe"
      ]
    },
    {
      "cell_type": "code",
      "metadata": {
        "id": "B5EoXvK9sjya"
      },
      "source": [
        "import pandas #วิธีเรียกใช้ package คือ import ตามด้วยชื่อ package"
      ],
      "execution_count": 1,
      "outputs": []
    },
    {
      "cell_type": "code",
      "metadata": {
        "id": "zMVQDBPRtApF"
      },
      "source": [
        "import pandas as pd #เหมือนกับข้างบนแต่ว่า ตั้งชื่อให้ package ที่โหลดมาใหม่ว่า pd"
      ],
      "execution_count": 2,
      "outputs": []
    },
    {
      "cell_type": "markdown",
      "metadata": {
        "id": "9Qkk1ldiu1_Y"
      },
      "source": [
        "ไฟล์ .csv (csv = comma separated values) เป็นไฟล์หลักที่เราจะได้ใช้กันในวิชานี้"
      ]
    },
    {
      "cell_type": "code",
      "metadata": {
        "id": "ZujQK8S5uehN"
      },
      "source": [
        "data_df = pd.read_csv('data.csv') #ชื่อpackage.ฟังชัน(ชื่อไฟล์)"
      ],
      "execution_count": 3,
      "outputs": []
    },
    {
      "cell_type": "code",
      "metadata": {
        "colab": {
          "base_uri": "https://localhost:8080/",
          "height": 142
        },
        "id": "rvPqgU4pxRSl",
        "outputId": "fe850e1f-18e2-4512-e112-82e60b53580d"
      },
      "source": [
        "data_df"
      ],
      "execution_count": 4,
      "outputs": [
        {
          "output_type": "execute_result",
          "data": {
            "text/html": [
              "<div>\n",
              "<style scoped>\n",
              "    .dataframe tbody tr th:only-of-type {\n",
              "        vertical-align: middle;\n",
              "    }\n",
              "\n",
              "    .dataframe tbody tr th {\n",
              "        vertical-align: top;\n",
              "    }\n",
              "\n",
              "    .dataframe thead th {\n",
              "        text-align: right;\n",
              "    }\n",
              "</style>\n",
              "<table border=\"1\" class=\"dataframe\">\n",
              "  <thead>\n",
              "    <tr style=\"text-align: right;\">\n",
              "      <th></th>\n",
              "      <th>name</th>\n",
              "      <th>age</th>\n",
              "      <th>city</th>\n",
              "    </tr>\n",
              "  </thead>\n",
              "  <tbody>\n",
              "    <tr>\n",
              "      <th>0</th>\n",
              "      <td>Tom</td>\n",
              "      <td>27</td>\n",
              "      <td>Khon Kaen</td>\n",
              "    </tr>\n",
              "    <tr>\n",
              "      <th>1</th>\n",
              "      <td>Paul</td>\n",
              "      <td>15</td>\n",
              "      <td>Bangkok</td>\n",
              "    </tr>\n",
              "    <tr>\n",
              "      <th>2</th>\n",
              "      <td>Sarah</td>\n",
              "      <td>49</td>\n",
              "      <td>London</td>\n",
              "    </tr>\n",
              "  </tbody>\n",
              "</table>\n",
              "</div>"
            ],
            "text/plain": [
              "    name  age       city\n",
              "0    Tom   27  Khon Kaen\n",
              "1   Paul   15    Bangkok\n",
              "2  Sarah   49     London"
            ]
          },
          "metadata": {
            "tags": []
          },
          "execution_count": 4
        }
      ]
    },
    {
      "cell_type": "code",
      "metadata": {
        "colab": {
          "base_uri": "https://localhost:8080/",
          "height": 142
        },
        "id": "K-ZqNCfrxTS0",
        "outputId": "d09d7da5-0dc1-4a14-9531-cb1cd45d9f4e"
      },
      "source": [
        "data_df2 = pd.read_csv('data.csv')   #ภายใน1เซลสามารถพิมได้2บรรทัด\n",
        "data_df2"
      ],
      "execution_count": 5,
      "outputs": [
        {
          "output_type": "execute_result",
          "data": {
            "text/html": [
              "<div>\n",
              "<style scoped>\n",
              "    .dataframe tbody tr th:only-of-type {\n",
              "        vertical-align: middle;\n",
              "    }\n",
              "\n",
              "    .dataframe tbody tr th {\n",
              "        vertical-align: top;\n",
              "    }\n",
              "\n",
              "    .dataframe thead th {\n",
              "        text-align: right;\n",
              "    }\n",
              "</style>\n",
              "<table border=\"1\" class=\"dataframe\">\n",
              "  <thead>\n",
              "    <tr style=\"text-align: right;\">\n",
              "      <th></th>\n",
              "      <th>name</th>\n",
              "      <th>age</th>\n",
              "      <th>city</th>\n",
              "    </tr>\n",
              "  </thead>\n",
              "  <tbody>\n",
              "    <tr>\n",
              "      <th>0</th>\n",
              "      <td>Tom</td>\n",
              "      <td>27</td>\n",
              "      <td>Khon Kaen</td>\n",
              "    </tr>\n",
              "    <tr>\n",
              "      <th>1</th>\n",
              "      <td>Paul</td>\n",
              "      <td>15</td>\n",
              "      <td>Bangkok</td>\n",
              "    </tr>\n",
              "    <tr>\n",
              "      <th>2</th>\n",
              "      <td>Sarah</td>\n",
              "      <td>49</td>\n",
              "      <td>London</td>\n",
              "    </tr>\n",
              "  </tbody>\n",
              "</table>\n",
              "</div>"
            ],
            "text/plain": [
              "    name  age       city\n",
              "0    Tom   27  Khon Kaen\n",
              "1   Paul   15    Bangkok\n",
              "2  Sarah   49     London"
            ]
          },
          "metadata": {
            "tags": []
          },
          "execution_count": 5
        }
      ]
    },
    {
      "cell_type": "markdown",
      "metadata": {
        "id": "A7aZWOBbzo9_"
      },
      "source": [
        "#Basic Python\n",
        "##variables ตัวแปร กล่องที่ไว้ใส่ข้อมูล"
      ]
    },
    {
      "cell_type": "markdown",
      "metadata": {
        "id": "j6D4tr551m3E"
      },
      "source": [
        "ข้อกหนดในการตั้งชื่อตัวแปร\n",
        "\n",
        "1.   ชื่อห้ามมีเว้นวรรค\n",
        "2.   ใช้ภาษาอังกฤษ\n",
        "3.   ตัวเล็กกับตัวใหญ่แตกต่างกัน (case sensitive)\n",
        "4.   ห้ามใช้ตัวเลขเป็นตัวหน้า\n",
        "\n"
      ]
    },
    {
      "cell_type": "code",
      "metadata": {
        "id": "8XR5fWcQyShR"
      },
      "source": [
        "variable_a = 12\n",
        "variable_b = 'abcde'  # ' เรียกว่า quote\n",
        "variable_c = variable_a"
      ],
      "execution_count": 6,
      "outputs": []
    },
    {
      "cell_type": "code",
      "metadata": {
        "colab": {
          "base_uri": "https://localhost:8080/"
        },
        "id": "fGUAvgxT1L3D",
        "outputId": "a7060461-93fc-48bb-9bc7-e10bb80e80e6"
      },
      "source": [
        "variable_a"
      ],
      "execution_count": 7,
      "outputs": [
        {
          "output_type": "execute_result",
          "data": {
            "text/plain": [
              "12"
            ]
          },
          "metadata": {
            "tags": []
          },
          "execution_count": 7
        }
      ]
    },
    {
      "cell_type": "code",
      "metadata": {
        "colab": {
          "base_uri": "https://localhost:8080/",
          "height": 35
        },
        "id": "F-bQAVPD1OhX",
        "outputId": "4af761af-da1b-4a6d-e757-e2adc3492b5d"
      },
      "source": [
        "variable_b"
      ],
      "execution_count": 8,
      "outputs": [
        {
          "output_type": "execute_result",
          "data": {
            "application/vnd.google.colaboratory.intrinsic+json": {
              "type": "string"
            },
            "text/plain": [
              "'abcde'"
            ]
          },
          "metadata": {
            "tags": []
          },
          "execution_count": 8
        }
      ]
    },
    {
      "cell_type": "code",
      "metadata": {
        "colab": {
          "base_uri": "https://localhost:8080/"
        },
        "id": "emm8Lyni1P6X",
        "outputId": "418791c5-dcbb-43ca-8abf-b97144ca938f"
      },
      "source": [
        "variable_c"
      ],
      "execution_count": 9,
      "outputs": [
        {
          "output_type": "execute_result",
          "data": {
            "text/plain": [
              "12"
            ]
          },
          "metadata": {
            "tags": []
          },
          "execution_count": 9
        }
      ]
    },
    {
      "cell_type": "code",
      "metadata": {
        "colab": {
          "base_uri": "https://localhost:8080/"
        },
        "id": "wNtUCIlu1Rmb",
        "outputId": "5c9fe894-3b0a-433f-a81a-fc5c85ea5f69"
      },
      "source": [
        "#colab ใช้ภาาาไทยเป็นชื่อตัวแปรได้ แต่ไม่ควรใช้\n",
        "ตัวแปร = 3\n",
        "ตัวแปร "
      ],
      "execution_count": 10,
      "outputs": [
        {
          "output_type": "execute_result",
          "data": {
            "text/plain": [
              "3"
            ]
          },
          "metadata": {
            "tags": []
          },
          "execution_count": 10
        }
      ]
    },
    {
      "cell_type": "code",
      "metadata": {
        "colab": {
          "base_uri": "https://localhost:8080/"
        },
        "id": "0oq9aro-2kxI",
        "outputId": "bb9583ed-9252-43ce-dab5-d149789adbe9"
      },
      "source": [
        "#ตัวเล็กกับตัวใหญ่แตกต่างกัน (case sensitive)\n",
        "v_a = 1\n",
        "V_a = 2\n",
        "print(v_a)\n",
        "print(V_a)"
      ],
      "execution_count": 11,
      "outputs": [
        {
          "output_type": "stream",
          "text": [
            "1\n",
            "2\n"
          ],
          "name": "stdout"
        }
      ]
    },
    {
      "cell_type": "code",
      "metadata": {
        "id": "kGH3-8e_3SQ-"
      },
      "source": [
        "variable_a = 12\n",
        "variable_b = 'abcde'  # ' เรียกว่า quote\n",
        "variable_c = variable_a\n",
        "variable_d = -41.2\n",
        "variable_4 = \"KKU\" # \" เรียกว่า double quote "
      ],
      "execution_count": 12,
      "outputs": []
    },
    {
      "cell_type": "code",
      "metadata": {
        "colab": {
          "base_uri": "https://localhost:8080/"
        },
        "id": "B_eEE8kW4m-G",
        "outputId": "726d13de-72a8-44a7-deca-360ec910552d"
      },
      "source": [
        "variable_x = variable_c + variable_d\n",
        "print(variable_x)"
      ],
      "execution_count": 13,
      "outputs": [
        {
          "output_type": "stream",
          "text": [
            "-29.200000000000003\n"
          ],
          "name": "stdout"
        }
      ]
    },
    {
      "cell_type": "code",
      "metadata": {
        "colab": {
          "base_uri": "https://localhost:8080/"
        },
        "id": "odGwFXsT4dgz",
        "outputId": "64bceedc-b231-419c-d316-eb5d720d3fbf"
      },
      "source": [
        "print(variable_b + variable_4)"
      ],
      "execution_count": 14,
      "outputs": [
        {
          "output_type": "stream",
          "text": [
            "abcdeKKU\n"
          ],
          "name": "stdout"
        }
      ]
    },
    {
      "cell_type": "markdown",
      "metadata": {
        "id": "NBb5HYXb7J9M"
      },
      "source": [
        "## Casing int() float() str()"
      ]
    },
    {
      "cell_type": "code",
      "metadata": {
        "colab": {
          "base_uri": "https://localhost:8080/"
        },
        "id": "SP-ehmM-6jZV",
        "outputId": "8142da9f-4623-4c12-f736-5bfd7777a76d"
      },
      "source": [
        "print(variable_x)\n",
        "print(int(variable_x))"
      ],
      "execution_count": 15,
      "outputs": [
        {
          "output_type": "stream",
          "text": [
            "-29.200000000000003\n",
            "-29\n"
          ],
          "name": "stdout"
        }
      ]
    },
    {
      "cell_type": "code",
      "metadata": {
        "colab": {
          "base_uri": "https://localhost:8080/"
        },
        "id": "ULkZSQgL7bxv",
        "outputId": "e025e60e-b15b-49d7-dfaf-b5f4a94482b3"
      },
      "source": [
        "V_X = str(variable_x)\n",
        "print(V_X)"
      ],
      "execution_count": 16,
      "outputs": [
        {
          "output_type": "stream",
          "text": [
            "-29.200000000000003\n"
          ],
          "name": "stdout"
        }
      ]
    },
    {
      "cell_type": "code",
      "metadata": {
        "colab": {
          "base_uri": "https://localhost:8080/",
          "height": 35
        },
        "id": "7A9QSlgN769v",
        "outputId": "54233e48-c0ef-41c1-f562-81ba2b6e8d7d"
      },
      "source": [
        "V_X  # เป็นstr"
      ],
      "execution_count": 17,
      "outputs": [
        {
          "output_type": "execute_result",
          "data": {
            "application/vnd.google.colaboratory.intrinsic+json": {
              "type": "string"
            },
            "text/plain": [
              "'-29.200000000000003'"
            ]
          },
          "metadata": {
            "tags": []
          },
          "execution_count": 17
        }
      ]
    },
    {
      "cell_type": "code",
      "metadata": {
        "colab": {
          "base_uri": "https://localhost:8080/"
        },
        "id": "fOchB1xx8jnt",
        "outputId": "0e30d87f-c9c9-498f-dfa4-e9eae435474c"
      },
      "source": [
        "float(V_X)  #เปลี่ยนกลับเป็นตัวเลข"
      ],
      "execution_count": 18,
      "outputs": [
        {
          "output_type": "execute_result",
          "data": {
            "text/plain": [
              "-29.200000000000003"
            ]
          },
          "metadata": {
            "tags": []
          },
          "execution_count": 18
        }
      ]
    },
    {
      "cell_type": "markdown",
      "metadata": {
        "id": "IUfM5Pjv9Vpg"
      },
      "source": [
        "## Data Stucture\n",
        "list()"
      ]
    },
    {
      "cell_type": "code",
      "metadata": {
        "id": "vu9gHgOL8nzw"
      },
      "source": [
        "list_a = [1,2,0,'abs'] # [] square brackets\n",
        "list_b = [2,'xyz',list_a,[1,2,0.0]]"
      ],
      "execution_count": 19,
      "outputs": []
    },
    {
      "cell_type": "code",
      "metadata": {
        "colab": {
          "base_uri": "https://localhost:8080/"
        },
        "id": "wXjqMX0199wk",
        "outputId": "b81b6b9a-97db-4375-d3f4-f81aee815f35"
      },
      "source": [
        "list_a"
      ],
      "execution_count": 20,
      "outputs": [
        {
          "output_type": "execute_result",
          "data": {
            "text/plain": [
              "[1, 2, 0, 'abs']"
            ]
          },
          "metadata": {
            "tags": []
          },
          "execution_count": 20
        }
      ]
    },
    {
      "cell_type": "code",
      "metadata": {
        "colab": {
          "base_uri": "https://localhost:8080/"
        },
        "id": "t-xKDMLJ9_RL",
        "outputId": "b4eb773b-f3c3-4fbb-8119-79b388478a92"
      },
      "source": [
        "list_b"
      ],
      "execution_count": 21,
      "outputs": [
        {
          "output_type": "execute_result",
          "data": {
            "text/plain": [
              "[2, 'xyz', [1, 2, 0, 'abs'], [1, 2, 0.0]]"
            ]
          },
          "metadata": {
            "tags": []
          },
          "execution_count": 21
        }
      ]
    },
    {
      "cell_type": "code",
      "metadata": {
        "colab": {
          "base_uri": "https://localhost:8080/"
        },
        "id": "6F_PM2BT-BuU",
        "outputId": "80a53778-f9b3-4c89-fd81-ac5972d1ab51"
      },
      "source": [
        "len(list_b)  #บอกจำนวนlist"
      ],
      "execution_count": 22,
      "outputs": [
        {
          "output_type": "execute_result",
          "data": {
            "text/plain": [
              "4"
            ]
          },
          "metadata": {
            "tags": []
          },
          "execution_count": 22
        }
      ]
    },
    {
      "cell_type": "code",
      "metadata": {
        "colab": {
          "base_uri": "https://localhost:8080/"
        },
        "id": "pqJvFOki-dtr",
        "outputId": "15a953d9-b430-4976-914a-3275c0c7aa36"
      },
      "source": [
        "list_b[3] #ชี้ list"
      ],
      "execution_count": 23,
      "outputs": [
        {
          "output_type": "execute_result",
          "data": {
            "text/plain": [
              "[1, 2, 0.0]"
            ]
          },
          "metadata": {
            "tags": []
          },
          "execution_count": 23
        }
      ]
    },
    {
      "cell_type": "code",
      "metadata": {
        "colab": {
          "base_uri": "https://localhost:8080/"
        },
        "id": "ioHBAi88-iv8",
        "outputId": "88e0d9ee-a7a4-4a1d-f37a-016d6eb38ad0"
      },
      "source": [
        "list_b[3][1]"
      ],
      "execution_count": 24,
      "outputs": [
        {
          "output_type": "execute_result",
          "data": {
            "text/plain": [
              "2"
            ]
          },
          "metadata": {
            "tags": []
          },
          "execution_count": 24
        }
      ]
    },
    {
      "cell_type": "markdown",
      "metadata": {
        "id": "1E_mGDcE-6JB"
      },
      "source": [
        "string คือ list ของตัวหนังสือ"
      ]
    },
    {
      "cell_type": "code",
      "metadata": {
        "id": "B2jhqLQ1-uEi"
      },
      "source": [
        "a = 'Stat KKU'"
      ],
      "execution_count": 25,
      "outputs": []
    },
    {
      "cell_type": "code",
      "metadata": {
        "colab": {
          "base_uri": "https://localhost:8080/",
          "height": 35
        },
        "id": "XZ9-BdEA_Ftg",
        "outputId": "caeb6531-9d73-4abe-f819-8ade5e980323"
      },
      "source": [
        "a[4]"
      ],
      "execution_count": 26,
      "outputs": [
        {
          "output_type": "execute_result",
          "data": {
            "application/vnd.google.colaboratory.intrinsic+json": {
              "type": "string"
            },
            "text/plain": [
              "' '"
            ]
          },
          "metadata": {
            "tags": []
          },
          "execution_count": 26
        }
      ]
    },
    {
      "cell_type": "markdown",
      "metadata": {
        "id": "xvMhevaa_xYI"
      },
      "source": [
        "##วิธีสร้าง list ว่าง"
      ]
    },
    {
      "cell_type": "code",
      "metadata": {
        "id": "H7mYubdB_JrX"
      },
      "source": [
        "list_c = list() #แบบที่1\n",
        "list_d =[] #แบบที่2"
      ],
      "execution_count": 27,
      "outputs": []
    },
    {
      "cell_type": "code",
      "metadata": {
        "colab": {
          "base_uri": "https://localhost:8080/"
        },
        "id": "baq0i_HZAAHj",
        "outputId": "290a89a8-0254-438c-e671-c7084d8ec929"
      },
      "source": [
        "list_c"
      ],
      "execution_count": 28,
      "outputs": [
        {
          "output_type": "execute_result",
          "data": {
            "text/plain": [
              "[]"
            ]
          },
          "metadata": {
            "tags": []
          },
          "execution_count": 28
        }
      ]
    },
    {
      "cell_type": "code",
      "metadata": {
        "colab": {
          "base_uri": "https://localhost:8080/"
        },
        "id": "th7ExPVxACJo",
        "outputId": "c2979429-85dc-453e-e144-a61bd330b160"
      },
      "source": [
        "list_d"
      ],
      "execution_count": 29,
      "outputs": [
        {
          "output_type": "execute_result",
          "data": {
            "text/plain": [
              "[]"
            ]
          },
          "metadata": {
            "tags": []
          },
          "execution_count": 29
        }
      ]
    },
    {
      "cell_type": "markdown",
      "metadata": {
        "id": "gEBgAgicApRc"
      },
      "source": [
        "เติมคำลงไปใน list (.append())"
      ]
    },
    {
      "cell_type": "code",
      "metadata": {
        "id": "iL26kphOADob"
      },
      "source": [
        "list_d.append('a')"
      ],
      "execution_count": 30,
      "outputs": []
    },
    {
      "cell_type": "code",
      "metadata": {
        "colab": {
          "base_uri": "https://localhost:8080/"
        },
        "id": "XtlMrH2wA06r",
        "outputId": "9de85579-a870-49be-adac-adf5402a26c2"
      },
      "source": [
        "list_d"
      ],
      "execution_count": 31,
      "outputs": [
        {
          "output_type": "execute_result",
          "data": {
            "text/plain": [
              "['a']"
            ]
          },
          "metadata": {
            "tags": []
          },
          "execution_count": 31
        }
      ]
    },
    {
      "cell_type": "code",
      "metadata": {
        "id": "g0k4JnSxA2ry"
      },
      "source": [
        "list_d.append(56)"
      ],
      "execution_count": 32,
      "outputs": []
    },
    {
      "cell_type": "code",
      "metadata": {
        "colab": {
          "base_uri": "https://localhost:8080/"
        },
        "id": "7Vpyr3XEA8y-",
        "outputId": "0650acd0-ca04-4d89-fefc-5ae705461dfb"
      },
      "source": [
        "list_d"
      ],
      "execution_count": 33,
      "outputs": [
        {
          "output_type": "execute_result",
          "data": {
            "text/plain": [
              "['a', 56]"
            ]
          },
          "metadata": {
            "tags": []
          },
          "execution_count": 33
        }
      ]
    },
    {
      "cell_type": "markdown",
      "metadata": {
        "id": "Ba7fvmzHBE7T"
      },
      "source": [
        "####การชี้ค่าใน list (indexing)\n",
        "\n",
        "1.   ใช้ลำดับในการชี้\n",
        "2.   ลำดับเริ่มจาก 0\n",
        "3.  สามารถชี้จากข้างหลังได้โดยใช้ negative index\n",
        "\n"
      ]
    },
    {
      "cell_type": "code",
      "metadata": {
        "colab": {
          "base_uri": "https://localhost:8080/"
        },
        "id": "9QLxXHrHA-Iv",
        "outputId": "273d6a67-3f92-4d4b-d9a6-20897d96e6d9"
      },
      "source": [
        "list_b"
      ],
      "execution_count": 34,
      "outputs": [
        {
          "output_type": "execute_result",
          "data": {
            "text/plain": [
              "[2, 'xyz', [1, 2, 0, 'abs'], [1, 2, 0.0]]"
            ]
          },
          "metadata": {
            "tags": []
          },
          "execution_count": 34
        }
      ]
    },
    {
      "cell_type": "code",
      "metadata": {
        "colab": {
          "base_uri": "https://localhost:8080/"
        },
        "id": "l-sZpYrRBdUF",
        "outputId": "1e761dc2-e6ee-4091-8984-8319e8a0200c"
      },
      "source": [
        "list_b[-1] #ชี้จากข้างหลัง"
      ],
      "execution_count": 35,
      "outputs": [
        {
          "output_type": "execute_result",
          "data": {
            "text/plain": [
              "[1, 2, 0.0]"
            ]
          },
          "metadata": {
            "tags": []
          },
          "execution_count": 35
        }
      ]
    },
    {
      "cell_type": "markdown",
      "metadata": {
        "id": "7jeOjpHYCO5i"
      },
      "source": [
        "###list slicing เฉือนlist"
      ]
    },
    {
      "cell_type": "code",
      "metadata": {
        "id": "yV_xF7C2Bfv4"
      },
      "source": [
        "list_ex = [1,2,3,5,6,8,-1,20,50,0]"
      ],
      "execution_count": 36,
      "outputs": []
    },
    {
      "cell_type": "markdown",
      "metadata": {
        "id": "tJzjV4BkC8Ag"
      },
      "source": [
        "เราจะตัดlist โดยเอาตั้งแต่ [ตัวหน้า:ตัวก่อนตัวหลัง]\n",
        "\n",
        "ถ้าเป็นสัญลักษณ์คณิตศาสตร์[ตัวหน้า:ตัวหลัง]->[ตัวหน้า,ตัวหลัง)"
      ]
    },
    {
      "cell_type": "code",
      "metadata": {
        "colab": {
          "base_uri": "https://localhost:8080/"
        },
        "id": "sdYsS-IbCY6V",
        "outputId": "36954c9d-ceb2-406a-a353-b8e3809b7570"
      },
      "source": [
        "list_ex[1:6]  "
      ],
      "execution_count": 37,
      "outputs": [
        {
          "output_type": "execute_result",
          "data": {
            "text/plain": [
              "[2, 3, 5, 6, 8]"
            ]
          },
          "metadata": {
            "tags": []
          },
          "execution_count": 37
        }
      ]
    },
    {
      "cell_type": "code",
      "metadata": {
        "colab": {
          "base_uri": "https://localhost:8080/"
        },
        "id": "kBRhK1I7Cjay",
        "outputId": "29f7a907-0342-42fb-e365-49e36d2ee118"
      },
      "source": [
        "list_ex[4:]   #ตัวที่4 ถึงตัวท้าย"
      ],
      "execution_count": 38,
      "outputs": [
        {
          "output_type": "execute_result",
          "data": {
            "text/plain": [
              "[6, 8, -1, 20, 50, 0]"
            ]
          },
          "metadata": {
            "tags": []
          },
          "execution_count": 38
        }
      ]
    },
    {
      "cell_type": "code",
      "metadata": {
        "colab": {
          "base_uri": "https://localhost:8080/"
        },
        "id": "u7nNo1DUDhKd",
        "outputId": "d9740b9d-a5b9-451f-da10-2208d777047a"
      },
      "source": [
        "list_ex[:6]   #ตัวแรกถึงตัวก่อนตัวที่6"
      ],
      "execution_count": 39,
      "outputs": [
        {
          "output_type": "execute_result",
          "data": {
            "text/plain": [
              "[1, 2, 3, 5, 6, 8]"
            ]
          },
          "metadata": {
            "tags": []
          },
          "execution_count": 39
        }
      ]
    },
    {
      "cell_type": "markdown",
      "metadata": {
        "id": "Cm2CM4tWEJ_R"
      },
      "source": [
        "[จุดเริ่มต้น:จุดสุดท้าย:step]"
      ]
    },
    {
      "cell_type": "code",
      "metadata": {
        "colab": {
          "base_uri": "https://localhost:8080/"
        },
        "id": "1QFPS_IwDkEb",
        "outputId": "567385d1-3f2b-4c9d-ff52-56318e08c258"
      },
      "source": [
        "list_ex[::2] "
      ],
      "execution_count": 40,
      "outputs": [
        {
          "output_type": "execute_result",
          "data": {
            "text/plain": [
              "[1, 3, 6, -1, 50]"
            ]
          },
          "metadata": {
            "tags": []
          },
          "execution_count": 40
        }
      ]
    },
    {
      "cell_type": "code",
      "metadata": {
        "colab": {
          "base_uri": "https://localhost:8080/"
        },
        "id": "HTSNj0c5ED8c",
        "outputId": "1436b37a-26e3-4da7-a8db-a13c8088e371"
      },
      "source": [
        "list_ex[::-1]  #การกลับ list"
      ],
      "execution_count": 41,
      "outputs": [
        {
          "output_type": "execute_result",
          "data": {
            "text/plain": [
              "[0, 50, 20, -1, 8, 6, 5, 3, 2, 1]"
            ]
          },
          "metadata": {
            "tags": []
          },
          "execution_count": 41
        }
      ]
    },
    {
      "cell_type": "code",
      "metadata": {
        "colab": {
          "base_uri": "https://localhost:8080/",
          "height": 35
        },
        "id": "xLV8OcDLErCI",
        "outputId": "d89c6e24-5a96-4b7a-e155-26dd3a3ddcef"
      },
      "source": [
        "a"
      ],
      "execution_count": 42,
      "outputs": [
        {
          "output_type": "execute_result",
          "data": {
            "application/vnd.google.colaboratory.intrinsic+json": {
              "type": "string"
            },
            "text/plain": [
              "'Stat KKU'"
            ]
          },
          "metadata": {
            "tags": []
          },
          "execution_count": 42
        }
      ]
    },
    {
      "cell_type": "code",
      "metadata": {
        "colab": {
          "base_uri": "https://localhost:8080/",
          "height": 35
        },
        "id": "Kdh-tWQWE_If",
        "outputId": "58abb3f3-a9a9-41df-cf12-ede8543950d3"
      },
      "source": [
        "a[-3:]\n",
        "a[5:8]\n",
        "a[5::]\n",
        "a[-3::]\n",
        "a[-3::1]"
      ],
      "execution_count": 43,
      "outputs": [
        {
          "output_type": "execute_result",
          "data": {
            "application/vnd.google.colaboratory.intrinsic+json": {
              "type": "string"
            },
            "text/plain": [
              "'KKU'"
            ]
          },
          "metadata": {
            "tags": []
          },
          "execution_count": 43
        }
      ]
    },
    {
      "cell_type": "markdown",
      "metadata": {
        "id": "NSASizFWHF4g"
      },
      "source": [
        "##list+list"
      ]
    },
    {
      "cell_type": "code",
      "metadata": {
        "colab": {
          "base_uri": "https://localhost:8080/"
        },
        "id": "eU_6JX_tF__F",
        "outputId": "d76b3b68-968c-47e0-c1d3-0dd6cd33ff6a"
      },
      "source": [
        "print(list_a)\n",
        "print(list_b)"
      ],
      "execution_count": 44,
      "outputs": [
        {
          "output_type": "stream",
          "text": [
            "[1, 2, 0, 'abs']\n",
            "[2, 'xyz', [1, 2, 0, 'abs'], [1, 2, 0.0]]\n"
          ],
          "name": "stdout"
        }
      ]
    },
    {
      "cell_type": "code",
      "metadata": {
        "colab": {
          "base_uri": "https://localhost:8080/"
        },
        "id": "pLWvrKu-HOgl",
        "outputId": "3eeeb9a1-a381-4d00-e3c7-92163521b9b4"
      },
      "source": [
        "list_a + list_b"
      ],
      "execution_count": 45,
      "outputs": [
        {
          "output_type": "execute_result",
          "data": {
            "text/plain": [
              "[1, 2, 0, 'abs', 2, 'xyz', [1, 2, 0, 'abs'], [1, 2, 0.0]]"
            ]
          },
          "metadata": {
            "tags": []
          },
          "execution_count": 45
        }
      ]
    },
    {
      "cell_type": "markdown",
      "metadata": {
        "id": "bfXo8uedLU99"
      },
      "source": [
        "format string"
      ]
    },
    {
      "cell_type": "markdown",
      "metadata": {
        "id": "C5WBba2wL1E6"
      },
      "source": [
        "```python\n",
        "f'string{ตัวแปร}'\n",
        "```"
      ]
    },
    {
      "cell_type": "markdown",
      "metadata": {
        "id": "z0IFGEBzMOPA"
      },
      "source": [
        "{} เรียกว่า curly brackets"
      ]
    },
    {
      "cell_type": "code",
      "metadata": {
        "colab": {
          "base_uri": "https://localhost:8080/",
          "height": 35
        },
        "id": "fGRkVBZQLXem",
        "outputId": "25fa5caa-f671-42f4-e830-c36d96054ed8"
      },
      "source": [
        "f'ตัวแปร list_a มีค่าคือ {list_a}'"
      ],
      "execution_count": 46,
      "outputs": [
        {
          "output_type": "execute_result",
          "data": {
            "application/vnd.google.colaboratory.intrinsic+json": {
              "type": "string"
            },
            "text/plain": [
              "\"ตัวแปร list_a มีค่าคือ [1, 2, 0, 'abs']\""
            ]
          },
          "metadata": {
            "tags": []
          },
          "execution_count": 46
        }
      ]
    },
    {
      "cell_type": "markdown",
      "metadata": {
        "id": "IS-Z6pWbHsMN"
      },
      "source": [
        "#Loop"
      ]
    },
    {
      "cell_type": "markdown",
      "metadata": {
        "id": "u47mLm-hBo4v"
      },
      "source": [
        "ทำงานซ้ำ หรือ ทำงานคล้ายๆกัน"
      ]
    },
    {
      "cell_type": "markdown",
      "metadata": {
        "id": "GnEs8HbLKdFQ"
      },
      "source": [
        "indent\n",
        "```python\n",
        "for ตัวแปรที่จะรับค่าจากลิสต์ in ลิสต์ที่จะนำมาวนลูป :\n",
        "  do something  #in_loop\n",
        "  do another thing  #in loop\n",
        "\n",
        "do other thing #out side loop\n",
        "```"
      ]
    },
    {
      "cell_type": "code",
      "metadata": {
        "colab": {
          "base_uri": "https://localhost:8080/"
        },
        "id": "fKKgC_iWJq23",
        "outputId": "9a906c98-d201-4ce8-ff9b-1d3423f011f4"
      },
      "source": [
        "for i in [1,2,3,4,5]:   #iคือ123 print i+1=234\n",
        "  print(i+1)"
      ],
      "execution_count": 47,
      "outputs": [
        {
          "output_type": "stream",
          "text": [
            "2\n",
            "3\n",
            "4\n",
            "5\n",
            "6\n"
          ],
          "name": "stdout"
        }
      ]
    },
    {
      "cell_type": "code",
      "metadata": {
        "colab": {
          "base_uri": "https://localhost:8080/"
        },
        "id": "B-U19MeHMZlf",
        "outputId": "1b05c02e-93d7-48ff-a47d-baeec210d7b2"
      },
      "source": [
        "for x in [1,2,3,4,5]:\n",
        "  print(f'ตัวแปร x ตือ {x} และ x+2={x+2}')"
      ],
      "execution_count": 48,
      "outputs": [
        {
          "output_type": "stream",
          "text": [
            "ตัวแปร x ตือ 1 และ x+2=3\n",
            "ตัวแปร x ตือ 2 และ x+2=4\n",
            "ตัวแปร x ตือ 3 และ x+2=5\n",
            "ตัวแปร x ตือ 4 และ x+2=6\n",
            "ตัวแปร x ตือ 5 และ x+2=7\n"
          ],
          "name": "stdout"
        }
      ]
    },
    {
      "cell_type": "code",
      "metadata": {
        "colab": {
          "base_uri": "https://localhost:8080/"
        },
        "id": "GkYPkpJSM6Ee",
        "outputId": "27e3f828-8167-49f4-d381-db995d9359ab"
      },
      "source": [
        "list5=[1,2,3,4,5]\n",
        "for x in list5:\n",
        "  print(f'ตัวแปร x ตือ {x} และ x+2={x+2}')"
      ],
      "execution_count": 49,
      "outputs": [
        {
          "output_type": "stream",
          "text": [
            "ตัวแปร x ตือ 1 และ x+2=3\n",
            "ตัวแปร x ตือ 2 และ x+2=4\n",
            "ตัวแปร x ตือ 3 และ x+2=5\n",
            "ตัวแปร x ตือ 4 และ x+2=6\n",
            "ตัวแปร x ตือ 5 และ x+2=7\n"
          ],
          "name": "stdout"
        }
      ]
    },
    {
      "cell_type": "code",
      "metadata": {
        "colab": {
          "base_uri": "https://localhost:8080/"
        },
        "id": "xIBFt0xLNJvc",
        "outputId": "8765ede0-f3c0-4135-fb76-3bcfd26e9f79"
      },
      "source": [
        "list(range(10))  #สร้างค่าตั้งแต่0ถึง9"
      ],
      "execution_count": 50,
      "outputs": [
        {
          "output_type": "execute_result",
          "data": {
            "text/plain": [
              "[0, 1, 2, 3, 4, 5, 6, 7, 8, 9]"
            ]
          },
          "metadata": {
            "tags": []
          },
          "execution_count": 50
        }
      ]
    },
    {
      "cell_type": "code",
      "metadata": {
        "colab": {
          "base_uri": "https://localhost:8080/"
        },
        "id": "tUEeGtBtNTTs",
        "outputId": "3751cd71-b7e3-4604-eee3-2add2e0478e1"
      },
      "source": [
        "for i in range(2,7):\n",
        "  print(i)"
      ],
      "execution_count": 51,
      "outputs": [
        {
          "output_type": "stream",
          "text": [
            "2\n",
            "3\n",
            "4\n",
            "5\n",
            "6\n"
          ],
          "name": "stdout"
        }
      ]
    },
    {
      "cell_type": "code",
      "metadata": {
        "colab": {
          "base_uri": "https://localhost:8080/"
        },
        "id": "S4FwJq2EN7us",
        "outputId": "1f55962d-d431-4d56-d5f4-2527e75f2d32"
      },
      "source": [
        "for i in range(2,7,2):\n",
        "  print(i)"
      ],
      "execution_count": 52,
      "outputs": [
        {
          "output_type": "stream",
          "text": [
            "2\n",
            "4\n",
            "6\n"
          ],
          "name": "stdout"
        }
      ]
    },
    {
      "cell_type": "code",
      "metadata": {
        "colab": {
          "base_uri": "https://localhost:8080/"
        },
        "id": "eyKCGdY0OUnz",
        "outputId": "b35c9f6f-1e11-4849-fa85-6e5546a1e404"
      },
      "source": [
        "for i in range(5):\n",
        "  print('hahaha')\n",
        "  x = i + 3\n",
        "  print(f'i={i} x={x}')"
      ],
      "execution_count": 53,
      "outputs": [
        {
          "output_type": "stream",
          "text": [
            "hahaha\n",
            "i=0 x=3\n",
            "hahaha\n",
            "i=1 x=4\n",
            "hahaha\n",
            "i=2 x=5\n",
            "hahaha\n",
            "i=3 x=6\n",
            "hahaha\n",
            "i=4 x=7\n"
          ],
          "name": "stdout"
        }
      ]
    },
    {
      "cell_type": "markdown",
      "metadata": {
        "id": "oCFiBH9EPG9y"
      },
      "source": [
        "###Nested loop ลูปซ้อนลูป"
      ]
    },
    {
      "cell_type": "code",
      "metadata": {
        "colab": {
          "base_uri": "https://localhost:8080/"
        },
        "id": "DWw-aVX8Oe41",
        "outputId": "ff025e25-c5ca-47a3-8db9-e61393741e5d"
      },
      "source": [
        "for i in range(3):\n",
        "  print(f'now i = {i}')\n",
        "  print('start j loop')\n",
        "  for j in range(4):\n",
        "    print(f'i = {i} j = {j} i+j = {i+j}')\n",
        "    print('end j loop')"
      ],
      "execution_count": 54,
      "outputs": [
        {
          "output_type": "stream",
          "text": [
            "now i = 0\n",
            "start j loop\n",
            "i = 0 j = 0 i+j = 0\n",
            "end j loop\n",
            "i = 0 j = 1 i+j = 1\n",
            "end j loop\n",
            "i = 0 j = 2 i+j = 2\n",
            "end j loop\n",
            "i = 0 j = 3 i+j = 3\n",
            "end j loop\n",
            "now i = 1\n",
            "start j loop\n",
            "i = 1 j = 0 i+j = 1\n",
            "end j loop\n",
            "i = 1 j = 1 i+j = 2\n",
            "end j loop\n",
            "i = 1 j = 2 i+j = 3\n",
            "end j loop\n",
            "i = 1 j = 3 i+j = 4\n",
            "end j loop\n",
            "now i = 2\n",
            "start j loop\n",
            "i = 2 j = 0 i+j = 2\n",
            "end j loop\n",
            "i = 2 j = 1 i+j = 3\n",
            "end j loop\n",
            "i = 2 j = 2 i+j = 4\n",
            "end j loop\n",
            "i = 2 j = 3 i+j = 5\n",
            "end j loop\n"
          ],
          "name": "stdout"
        }
      ]
    },
    {
      "cell_type": "markdown",
      "metadata": {
        "id": "b2eEddZSJn87"
      },
      "source": [
        "##Condition (if statement) เงือนไข"
      ]
    },
    {
      "cell_type": "markdown",
      "metadata": {
        "id": "S1TEgIy2FluK"
      },
      "source": [
        "```python\n",
        "if เงื่อนไขที่จะตรวจสอบ (โดยใช้สัญลักษณ์==,!=,<,>,<=,>=):\n",
        "    ถ้าเงื่อนไขเป็นจริง ทำงาน 1\n",
        "    ถ้าเงื่อนไขเป็นจริง ทำงาน 2\n",
        "else: #ตรวจสอบเงื่อนไขข้างบนแล้วไม่เป็นจริง\n",
        "    ทำงานที่ x\n",
        "\n",
        "```"
      ]
    },
    {
      "cell_type": "code",
      "metadata": {
        "id": "yMI5pJ8IGFK_",
        "outputId": "43824035-cfa6-47b1-bb88-fdd8ef320ff7",
        "colab": {
          "base_uri": "https://localhost:8080/"
        }
      },
      "source": [
        "stringx = 'sa;djakjsdjf;sdjfslk;jdgjghjghjgjkgkhfkj'  #เป็นจริงก็มีข้อมูลออกมา\n",
        "\n",
        "if len(stringx) > 30:\n",
        "  print(f'{stringx} is longer than 30 characters')"
      ],
      "execution_count": 57,
      "outputs": [
        {
          "output_type": "stream",
          "text": [
            "sa;djakjsdjf;sdjfslk;jdgjghjghjgjkgkhfkj is longer than 30 characters\n"
          ],
          "name": "stdout"
        }
      ]
    },
    {
      "cell_type": "code",
      "metadata": {
        "id": "Vn2F6RFkG4JK",
        "outputId": "7a3f9852-1501-44fd-ec8b-dc3a6f4a88bd",
        "colab": {
          "base_uri": "https://localhost:8080/"
        }
      },
      "source": [
        "stringx = 'sa;djakjsdjf;sdjfslk;jdgjghjghjgjkgkhfkj'   #ไม่เป็นจริงก็ไม่มีข้อมูลออกมา\n",
        "\n",
        "if len(stringx) > 100:\n",
        "  print(f'{stringx} is longer than 30 characters')\n",
        "else:\n",
        "  print(f'{stringx} in {len(stringx)} characters long')  #ถ้าไม่จรริงแล้วให้แสดงจำนวนทั้งหมด"
      ],
      "execution_count": 60,
      "outputs": [
        {
          "output_type": "stream",
          "text": [
            "sa;djakjsdjf;sdjfslk;jdgjghjghjgjkgkhfkj in 40 characters long\n"
          ],
          "name": "stdout"
        }
      ]
    },
    {
      "cell_type": "markdown",
      "metadata": {
        "id": "jMDjhFyRJLEx"
      },
      "source": [
        "```python\n",
        "if เงื่อนไขที่จะตรวจสอบ (โดยใช้สัญลักษณ์==,!=,<,>,<=,>=):\n",
        "    ถ้าเงื่อนไขเป็นจริง ทำงาน 1\n",
        "    ถ้าเงื่อนไขเป็นจริง ทำงาน 2\n",
        "elif เงื่อนไขที่จะตรวจสอบต่อไปถ้าเงื่อนไขข้างบนไม่เป็นจริง:\n",
        "  ถ้าเงื่อนไขเป็นจริง ทำงาน a1\n",
        "  ถ้าเงื่อนไขเป็นจริง ทำงาน a2\n",
        "elif เงื่อนไขที่จะตรวจสอบต่อไปถ้าเงื่อนไขข้างบนไม่เป็นจริง:\n",
        "  ถ้าเงื่อนไขเป็นจริง ทำงาน b1\n",
        "  ถ้าเงื่อนไขเป็นจริง ทำงาน b2\n",
        "else: #ตรวจสอบเงื่อนไขข้างบนแล้วไม่เป็นจริง\n",
        "    ทำงานที่ x\n",
        "```"
      ]
    },
    {
      "cell_type": "code",
      "metadata": {
        "id": "u-B8KwzDLF4Q",
        "outputId": "c59cd8b1-a927-461e-ad6c-185800e2514b",
        "colab": {
          "base_uri": "https://localhost:8080/"
        }
      },
      "source": [
        "password = '12345'\n",
        " \n",
        "input_pass = '12355'\n",
        "if input_pass == password:\n",
        "  print('Welcome!')\n",
        "elif len(input_pass) > len(password):\n",
        "  print('Too long, try again')\n",
        "elif len(input_pass) < len(password):\n",
        "  print('Too short, try again')\n",
        "else:\n",
        "  print('Wrong password, try again')"
      ],
      "execution_count": 67,
      "outputs": [
        {
          "output_type": "stream",
          "text": [
            "Wrong password, try again\n"
          ],
          "name": "stdout"
        }
      ]
    },
    {
      "cell_type": "markdown",
      "metadata": {
        "id": "UYXDvNxPK-2L"
      },
      "source": [
        "Quiz 1 หา min"
      ]
    },
    {
      "cell_type": "code",
      "metadata": {
        "id": "U38gp5zRNgWC"
      },
      "source": [
        "list_ex = [1,5,9,-19,-2,0] #หาค่าน้อยที่สุดใน list_ex โดยไม่ใช้ function min (comit ก่อน 10:30 :Quiz1)"
      ],
      "execution_count": 69,
      "outputs": []
    },
    {
      "cell_type": "code",
      "metadata": {
        "id": "zazNvmE0ONfK",
        "outputId": "fe326669-3681-4799-d67e-7648679822a6",
        "colab": {
          "base_uri": "https://localhost:8080/"
        }
      },
      "source": [
        "list_ex = [1,5,9,-19,-2,0]\n",
        "mi = list_ex[0] \n",
        "i = 0 # ลำดับของค่าสูงสุดเริ่มต้น\n",
        "for m in list_ex: # ทำการวนซ้ำตามจำนวนในลิสต์\n",
        "    if(m<mi): # ถ้ามากกว่าค่าสูงสุดเดิม\n",
        "        mi = m # ให้เปลี่ยนเป็นค่านั้น\n",
        "        imi = i # และเปลี่ยนลำดับด้วย\n",
        "    i += 1\n",
        "print(min(list_ex))"
      ],
      "execution_count": 72,
      "outputs": [
        {
          "output_type": "stream",
          "text": [
            "-19\n"
          ],
          "name": "stdout"
        }
      ]
    },
    {
      "cell_type": "markdown",
      "metadata": {
        "id": "GDS6UX5KLDeH"
      },
      "source": [
        "Quiz 2 ตัดเกรด"
      ]
    },
    {
      "cell_type": "code",
      "metadata": {
        "id": "cHoxpbIkNjri"
      },
      "source": [
        ""
      ],
      "execution_count": null,
      "outputs": []
    }
  ]
}