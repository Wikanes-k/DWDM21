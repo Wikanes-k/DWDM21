{
  "nbformat": 4,
  "nbformat_minor": 0,
  "metadata": {
    "colab": {
      "name": "Data101(Chapter2).ipynb",
      "provenance": [],
      "include_colab_link": true
    },
    "kernelspec": {
      "name": "python3",
      "display_name": "Python 3"
    },
    "language_info": {
      "name": "python"
    }
  },
  "cells": [
    {
      "cell_type": "markdown",
      "metadata": {
        "id": "view-in-github",
        "colab_type": "text"
      },
      "source": [
        "<a href=\"https://colab.research.google.com/github/Wikanes-k/DWDM21/blob/main/Data101(Chapter2).ipynb\" target=\"_parent\"><img src=\"https://colab.research.google.com/assets/colab-badge.svg\" alt=\"Open In Colab\"/></a>"
      ]
    },
    {
      "cell_type": "markdown",
      "metadata": {
        "id": "Mdn1L8RSz0UB"
      },
      "source": [
        "ข้อความที่อยู่ text box จะเป็น ภาษา markdown"
      ]
    },
    {
      "cell_type": "markdown",
      "metadata": {
        "id": "kZWdO8Z4tqu6"
      },
      "source": [
        "ข้อดีหนึ่งของ Python คือมี package สำหรับทำงานต่างๆมากมาย\n",
        "\n",
        "ซึ่ง pandas เป็น package สำหรับการทำงานกับข้อมูลที่อยู่ในรูปแบบตาราง\n",
        "\n",
        "โดย pandas จะเรียกตารางนั้นว่า dataframe"
      ]
    },
    {
      "cell_type": "code",
      "metadata": {
        "id": "B5EoXvK9sjya"
      },
      "source": [
        "import pandas #วิธีเรียกใช้ package คือ import ตามด้วยชื่อ package"
      ],
      "execution_count": 92,
      "outputs": []
    },
    {
      "cell_type": "code",
      "metadata": {
        "id": "zMVQDBPRtApF"
      },
      "source": [
        "import pandas as pd #เหมือนกับข้างบนแต่ว่า ตั้งชื่อให้ package ที่โหลดมาใหม่ว่า pd"
      ],
      "execution_count": 93,
      "outputs": []
    },
    {
      "cell_type": "markdown",
      "metadata": {
        "id": "9Qkk1ldiu1_Y"
      },
      "source": [
        "ไฟล์ .csv (csv = comma separated values) เป็นไฟล์หลักที่เราจะได้ใช้กันในวิชานี้"
      ]
    },
    {
      "cell_type": "code",
      "metadata": {
        "id": "ZujQK8S5uehN"
      },
      "source": [
        "data_df = pd.read_csv('data.csv') #ชื่อpackage.ฟังชัน(ชื่อไฟล์)"
      ],
      "execution_count": 94,
      "outputs": []
    },
    {
      "cell_type": "code",
      "metadata": {
        "colab": {
          "base_uri": "https://localhost:8080/",
          "height": 142
        },
        "id": "rvPqgU4pxRSl",
        "outputId": "f4d8af10-9021-4a86-8c47-b54865cd3ceb"
      },
      "source": [
        "data_df  #แสดงตาราง"
      ],
      "execution_count": 95,
      "outputs": [
        {
          "output_type": "execute_result",
          "data": {
            "text/html": [
              "<div>\n",
              "<style scoped>\n",
              "    .dataframe tbody tr th:only-of-type {\n",
              "        vertical-align: middle;\n",
              "    }\n",
              "\n",
              "    .dataframe tbody tr th {\n",
              "        vertical-align: top;\n",
              "    }\n",
              "\n",
              "    .dataframe thead th {\n",
              "        text-align: right;\n",
              "    }\n",
              "</style>\n",
              "<table border=\"1\" class=\"dataframe\">\n",
              "  <thead>\n",
              "    <tr style=\"text-align: right;\">\n",
              "      <th></th>\n",
              "      <th>name</th>\n",
              "      <th>age</th>\n",
              "      <th>city</th>\n",
              "    </tr>\n",
              "  </thead>\n",
              "  <tbody>\n",
              "    <tr>\n",
              "      <th>0</th>\n",
              "      <td>Tom</td>\n",
              "      <td>27</td>\n",
              "      <td>Khon Kaen</td>\n",
              "    </tr>\n",
              "    <tr>\n",
              "      <th>1</th>\n",
              "      <td>Paul</td>\n",
              "      <td>15</td>\n",
              "      <td>Bangkok</td>\n",
              "    </tr>\n",
              "    <tr>\n",
              "      <th>2</th>\n",
              "      <td>Sarah</td>\n",
              "      <td>49</td>\n",
              "      <td>London</td>\n",
              "    </tr>\n",
              "  </tbody>\n",
              "</table>\n",
              "</div>"
            ],
            "text/plain": [
              "    name  age       city\n",
              "0    Tom   27  Khon Kaen\n",
              "1   Paul   15    Bangkok\n",
              "2  Sarah   49     London"
            ]
          },
          "metadata": {},
          "execution_count": 95
        }
      ]
    },
    {
      "cell_type": "code",
      "metadata": {
        "colab": {
          "base_uri": "https://localhost:8080/",
          "height": 142
        },
        "id": "K-ZqNCfrxTS0",
        "outputId": "632a0a5f-0b4a-4a8f-993c-307c6084c615"
      },
      "source": [
        "data_df2 = pd.read_csv('data.csv')   #ภายใน1เซลสามารถพิมได้2บรรทัด\n",
        "data_df2  "
      ],
      "execution_count": 96,
      "outputs": [
        {
          "output_type": "execute_result",
          "data": {
            "text/html": [
              "<div>\n",
              "<style scoped>\n",
              "    .dataframe tbody tr th:only-of-type {\n",
              "        vertical-align: middle;\n",
              "    }\n",
              "\n",
              "    .dataframe tbody tr th {\n",
              "        vertical-align: top;\n",
              "    }\n",
              "\n",
              "    .dataframe thead th {\n",
              "        text-align: right;\n",
              "    }\n",
              "</style>\n",
              "<table border=\"1\" class=\"dataframe\">\n",
              "  <thead>\n",
              "    <tr style=\"text-align: right;\">\n",
              "      <th></th>\n",
              "      <th>name</th>\n",
              "      <th>age</th>\n",
              "      <th>city</th>\n",
              "    </tr>\n",
              "  </thead>\n",
              "  <tbody>\n",
              "    <tr>\n",
              "      <th>0</th>\n",
              "      <td>Tom</td>\n",
              "      <td>27</td>\n",
              "      <td>Khon Kaen</td>\n",
              "    </tr>\n",
              "    <tr>\n",
              "      <th>1</th>\n",
              "      <td>Paul</td>\n",
              "      <td>15</td>\n",
              "      <td>Bangkok</td>\n",
              "    </tr>\n",
              "    <tr>\n",
              "      <th>2</th>\n",
              "      <td>Sarah</td>\n",
              "      <td>49</td>\n",
              "      <td>London</td>\n",
              "    </tr>\n",
              "  </tbody>\n",
              "</table>\n",
              "</div>"
            ],
            "text/plain": [
              "    name  age       city\n",
              "0    Tom   27  Khon Kaen\n",
              "1   Paul   15    Bangkok\n",
              "2  Sarah   49     London"
            ]
          },
          "metadata": {},
          "execution_count": 96
        }
      ]
    },
    {
      "cell_type": "markdown",
      "metadata": {
        "id": "A7aZWOBbzo9_"
      },
      "source": [
        "#Basic Python\n",
        "##variables ตัวแปร กล่องที่ไว้ใส่ข้อมูล"
      ]
    },
    {
      "cell_type": "markdown",
      "metadata": {
        "id": "j6D4tr551m3E"
      },
      "source": [
        "ข้อกหนดในการตั้งชื่อตัวแปร\n",
        "\n",
        "1.   ชื่อห้ามมีเว้นวรรค\n",
        "2.   ใช้ภาษาอังกฤษ\n",
        "3.   ตัวเล็กกับตัวใหญ่แตกต่างกัน (case sensitive)\n",
        "4.   ห้ามใช้ตัวเลขเป็นตัวหน้า\n",
        "\n"
      ]
    },
    {
      "cell_type": "code",
      "metadata": {
        "id": "8XR5fWcQyShR"
      },
      "source": [
        "variable_a = 12\n",
        "variable_b = 'abcde'  # ' ' เรียกว่า quote โค้ด\n",
        "variable_c = variable_a"
      ],
      "execution_count": 97,
      "outputs": []
    },
    {
      "cell_type": "code",
      "metadata": {
        "colab": {
          "base_uri": "https://localhost:8080/"
        },
        "id": "fGUAvgxT1L3D",
        "outputId": "6f510e54-a0ef-4b0d-d1a3-9a887f9667c5"
      },
      "source": [
        "variable_a  "
      ],
      "execution_count": 98,
      "outputs": [
        {
          "output_type": "execute_result",
          "data": {
            "text/plain": [
              "12"
            ]
          },
          "metadata": {},
          "execution_count": 98
        }
      ]
    },
    {
      "cell_type": "code",
      "metadata": {
        "colab": {
          "base_uri": "https://localhost:8080/",
          "height": 35
        },
        "id": "F-bQAVPD1OhX",
        "outputId": "7efc3c50-e77c-44a6-fbea-090a30d6b9f3"
      },
      "source": [
        "variable_b"
      ],
      "execution_count": 99,
      "outputs": [
        {
          "output_type": "execute_result",
          "data": {
            "application/vnd.google.colaboratory.intrinsic+json": {
              "type": "string"
            },
            "text/plain": [
              "'abcde'"
            ]
          },
          "metadata": {},
          "execution_count": 99
        }
      ]
    },
    {
      "cell_type": "code",
      "metadata": {
        "colab": {
          "base_uri": "https://localhost:8080/"
        },
        "id": "emm8Lyni1P6X",
        "outputId": "16faab4f-f58d-4f7d-9258-43b34f819e02"
      },
      "source": [
        "variable_c"
      ],
      "execution_count": 100,
      "outputs": [
        {
          "output_type": "execute_result",
          "data": {
            "text/plain": [
              "12"
            ]
          },
          "metadata": {},
          "execution_count": 100
        }
      ]
    },
    {
      "cell_type": "code",
      "metadata": {
        "colab": {
          "base_uri": "https://localhost:8080/"
        },
        "id": "wNtUCIlu1Rmb",
        "outputId": "952ac8dd-4bb5-4413-f0c6-c3e0f5b62cfd"
      },
      "source": [
        "#colab ใช้ภาาาไทยเป็นชื่อตัวแปรได้ แต่ไม่ควรใช้\n",
        "ตัวแปร = 3\n",
        "ตัวแปร "
      ],
      "execution_count": 101,
      "outputs": [
        {
          "output_type": "execute_result",
          "data": {
            "text/plain": [
              "3"
            ]
          },
          "metadata": {},
          "execution_count": 101
        }
      ]
    },
    {
      "cell_type": "code",
      "metadata": {
        "colab": {
          "base_uri": "https://localhost:8080/"
        },
        "id": "0oq9aro-2kxI",
        "outputId": "7bd17f26-8314-4d2d-d0f0-54fcc44c17fd"
      },
      "source": [
        "#ตัวเล็กกับตัวใหญ่แตกต่างกัน (case sensitive)\n",
        "v_a = 1\n",
        "V_a = 2\n",
        "print(v_a)\n",
        "print(V_a)"
      ],
      "execution_count": 102,
      "outputs": [
        {
          "output_type": "stream",
          "name": "stdout",
          "text": [
            "1\n",
            "2\n"
          ]
        }
      ]
    },
    {
      "cell_type": "code",
      "metadata": {
        "id": "kGH3-8e_3SQ-"
      },
      "source": [
        "variable_a = 12\n",
        "variable_b = 'abcde'  # ' เรียกว่า quote\n",
        "variable_c = variable_a\n",
        "variable_d = -41.2\n",
        "variable_4 = \"KKU\" # \" เรียกว่า double quote "
      ],
      "execution_count": 103,
      "outputs": []
    },
    {
      "cell_type": "code",
      "metadata": {
        "colab": {
          "base_uri": "https://localhost:8080/"
        },
        "id": "B_eEE8kW4m-G",
        "outputId": "f521781c-c69d-4ba8-dc45-eddb753d6833"
      },
      "source": [
        "variable_x = variable_c + variable_d  #นำค่า a+d\n",
        "print(variable_x)"
      ],
      "execution_count": 104,
      "outputs": [
        {
          "output_type": "stream",
          "name": "stdout",
          "text": [
            "-29.200000000000003\n"
          ]
        }
      ]
    },
    {
      "cell_type": "code",
      "metadata": {
        "colab": {
          "base_uri": "https://localhost:8080/"
        },
        "id": "odGwFXsT4dgz",
        "outputId": "69cf59d6-7e73-44d6-e265-61382a942c28"
      },
      "source": [
        "print(variable_b + variable_4)   #นำคำ4มาต่อb"
      ],
      "execution_count": 105,
      "outputs": [
        {
          "output_type": "stream",
          "name": "stdout",
          "text": [
            "abcdeKKU\n"
          ]
        }
      ]
    },
    {
      "cell_type": "markdown",
      "metadata": {
        "id": "NBb5HYXb7J9M"
      },
      "source": [
        "## Casting int() float() str()"
      ]
    },
    {
      "cell_type": "code",
      "metadata": {
        "colab": {
          "base_uri": "https://localhost:8080/"
        },
        "id": "SP-ehmM-6jZV",
        "outputId": "4cac5f1f-398e-49d9-9130-27360991f6d0"
      },
      "source": [
        "print(variable_x)  #แสดงผลแบบทศนิยม\n",
        "print(int(variable_x)) #แสดงผลแบบไม่มีทศนิยม"
      ],
      "execution_count": 106,
      "outputs": [
        {
          "output_type": "stream",
          "name": "stdout",
          "text": [
            "-29.200000000000003\n",
            "-29\n"
          ]
        }
      ]
    },
    {
      "cell_type": "code",
      "metadata": {
        "colab": {
          "base_uri": "https://localhost:8080/"
        },
        "id": "ULkZSQgL7bxv",
        "outputId": "3b0a15d6-d0e9-49e8-b1b2-e5a586d6ede0"
      },
      "source": [
        "V_X = str(variable_x)\n",
        "print(V_X)"
      ],
      "execution_count": 107,
      "outputs": [
        {
          "output_type": "stream",
          "name": "stdout",
          "text": [
            "-29.200000000000003\n"
          ]
        }
      ]
    },
    {
      "cell_type": "code",
      "metadata": {
        "colab": {
          "base_uri": "https://localhost:8080/",
          "height": 35
        },
        "id": "7A9QSlgN769v",
        "outputId": "57d8f75a-93ee-4644-f357-c3994690d684"
      },
      "source": [
        "V_X  # เป็นค่าstr"
      ],
      "execution_count": 108,
      "outputs": [
        {
          "output_type": "execute_result",
          "data": {
            "application/vnd.google.colaboratory.intrinsic+json": {
              "type": "string"
            },
            "text/plain": [
              "'-29.200000000000003'"
            ]
          },
          "metadata": {},
          "execution_count": 108
        }
      ]
    },
    {
      "cell_type": "code",
      "metadata": {
        "colab": {
          "base_uri": "https://localhost:8080/"
        },
        "id": "fOchB1xx8jnt",
        "outputId": "e3322b24-fda1-4646-d075-badc6fc2f7e7"
      },
      "source": [
        "float(V_X)  #เปลี่ยนกลับเป็นตัวเลข"
      ],
      "execution_count": 109,
      "outputs": [
        {
          "output_type": "execute_result",
          "data": {
            "text/plain": [
              "-29.200000000000003"
            ]
          },
          "metadata": {},
          "execution_count": 109
        }
      ]
    },
    {
      "cell_type": "markdown",
      "metadata": {
        "id": "IUfM5Pjv9Vpg"
      },
      "source": [
        "## Data Structure\n",
        "###list()"
      ]
    },
    {
      "cell_type": "code",
      "metadata": {
        "id": "vu9gHgOL8nzw"
      },
      "source": [
        "list_a = [1,2,0,'abs'] # [] square brackets\n",
        "list_b = [2,'xyz',list_a,[1,2,0.0]]"
      ],
      "execution_count": 110,
      "outputs": []
    },
    {
      "cell_type": "code",
      "metadata": {
        "colab": {
          "base_uri": "https://localhost:8080/"
        },
        "id": "wXjqMX0199wk",
        "outputId": "c8564f6c-dce1-4d56-fe2d-966d8a79e041"
      },
      "source": [
        "list_a"
      ],
      "execution_count": 111,
      "outputs": [
        {
          "output_type": "execute_result",
          "data": {
            "text/plain": [
              "[1, 2, 0, 'abs']"
            ]
          },
          "metadata": {},
          "execution_count": 111
        }
      ]
    },
    {
      "cell_type": "code",
      "metadata": {
        "colab": {
          "base_uri": "https://localhost:8080/"
        },
        "id": "t-xKDMLJ9_RL",
        "outputId": "24f41a29-7869-4484-a574-23860b5da789"
      },
      "source": [
        "list_b"
      ],
      "execution_count": 112,
      "outputs": [
        {
          "output_type": "execute_result",
          "data": {
            "text/plain": [
              "[2, 'xyz', [1, 2, 0, 'abs'], [1, 2, 0.0]]"
            ]
          },
          "metadata": {},
          "execution_count": 112
        }
      ]
    },
    {
      "cell_type": "code",
      "metadata": {
        "colab": {
          "base_uri": "https://localhost:8080/"
        },
        "id": "6F_PM2BT-BuU",
        "outputId": "13c4ecb9-b779-4a7e-eba6-a27524f57d40"
      },
      "source": [
        "len(list_b)  #บอกจำนวนlist"
      ],
      "execution_count": 113,
      "outputs": [
        {
          "output_type": "execute_result",
          "data": {
            "text/plain": [
              "4"
            ]
          },
          "metadata": {},
          "execution_count": 113
        }
      ]
    },
    {
      "cell_type": "code",
      "metadata": {
        "colab": {
          "base_uri": "https://localhost:8080/"
        },
        "id": "pqJvFOki-dtr",
        "outputId": "e45be1ab-91a6-4073-b593-3830c7bc51ab"
      },
      "source": [
        "list_b[3] #ชี้ list"
      ],
      "execution_count": 114,
      "outputs": [
        {
          "output_type": "execute_result",
          "data": {
            "text/plain": [
              "[1, 2, 0.0]"
            ]
          },
          "metadata": {},
          "execution_count": 114
        }
      ]
    },
    {
      "cell_type": "code",
      "metadata": {
        "colab": {
          "base_uri": "https://localhost:8080/"
        },
        "id": "ioHBAi88-iv8",
        "outputId": "8eec6846-7b94-4299-ab10-91b18c51a564"
      },
      "source": [
        "list_b[3][1] #ชี้ list ใน list "
      ],
      "execution_count": 115,
      "outputs": [
        {
          "output_type": "execute_result",
          "data": {
            "text/plain": [
              "2"
            ]
          },
          "metadata": {},
          "execution_count": 115
        }
      ]
    },
    {
      "cell_type": "markdown",
      "metadata": {
        "id": "1E_mGDcE-6JB"
      },
      "source": [
        "string คือ list ของตัวหนังสือ"
      ]
    },
    {
      "cell_type": "code",
      "metadata": {
        "id": "B2jhqLQ1-uEi"
      },
      "source": [
        "a = 'Stat KKU'"
      ],
      "execution_count": 116,
      "outputs": []
    },
    {
      "cell_type": "code",
      "metadata": {
        "colab": {
          "base_uri": "https://localhost:8080/",
          "height": 35
        },
        "id": "XZ9-BdEA_Ftg",
        "outputId": "23ff2f51-e364-4455-d1da-a6d43e5e0c68"
      },
      "source": [
        "a[4] #แสดงผลตัวที่4นับจาก0"
      ],
      "execution_count": 117,
      "outputs": [
        {
          "output_type": "execute_result",
          "data": {
            "application/vnd.google.colaboratory.intrinsic+json": {
              "type": "string"
            },
            "text/plain": [
              "' '"
            ]
          },
          "metadata": {},
          "execution_count": 117
        }
      ]
    },
    {
      "cell_type": "markdown",
      "metadata": {
        "id": "xvMhevaa_xYI"
      },
      "source": [
        "###วิธีสร้าง list ว่าง"
      ]
    },
    {
      "cell_type": "code",
      "metadata": {
        "id": "H7mYubdB_JrX"
      },
      "source": [
        "list_c = list() #แบบที่1\n",
        "list_d =[] #แบบที่2"
      ],
      "execution_count": 118,
      "outputs": []
    },
    {
      "cell_type": "code",
      "metadata": {
        "colab": {
          "base_uri": "https://localhost:8080/"
        },
        "id": "baq0i_HZAAHj",
        "outputId": "b86b9063-5739-4081-d86b-72f290df297d"
      },
      "source": [
        "list_c"
      ],
      "execution_count": 119,
      "outputs": [
        {
          "output_type": "execute_result",
          "data": {
            "text/plain": [
              "[]"
            ]
          },
          "metadata": {},
          "execution_count": 119
        }
      ]
    },
    {
      "cell_type": "code",
      "metadata": {
        "colab": {
          "base_uri": "https://localhost:8080/"
        },
        "id": "th7ExPVxACJo",
        "outputId": "a2a76c0a-7a61-485e-c45b-26072903cfbb"
      },
      "source": [
        "list_d"
      ],
      "execution_count": 120,
      "outputs": [
        {
          "output_type": "execute_result",
          "data": {
            "text/plain": [
              "[]"
            ]
          },
          "metadata": {},
          "execution_count": 120
        }
      ]
    },
    {
      "cell_type": "markdown",
      "metadata": {
        "id": "gEBgAgicApRc"
      },
      "source": [
        "เติมคำลงไปใน list (.append())"
      ]
    },
    {
      "cell_type": "code",
      "metadata": {
        "id": "iL26kphOADob"
      },
      "source": [
        "list_d.append('a')  #เติม a ในlist_d"
      ],
      "execution_count": 121,
      "outputs": []
    },
    {
      "cell_type": "code",
      "metadata": {
        "colab": {
          "base_uri": "https://localhost:8080/"
        },
        "id": "XtlMrH2wA06r",
        "outputId": "67b7998d-b780-4f7f-fee3-13455d605fbc"
      },
      "source": [
        "list_d"
      ],
      "execution_count": 122,
      "outputs": [
        {
          "output_type": "execute_result",
          "data": {
            "text/plain": [
              "['a']"
            ]
          },
          "metadata": {},
          "execution_count": 122
        }
      ]
    },
    {
      "cell_type": "code",
      "metadata": {
        "id": "g0k4JnSxA2ry"
      },
      "source": [
        "list_d.append(56) #เติม 56 ในlist_d"
      ],
      "execution_count": 123,
      "outputs": []
    },
    {
      "cell_type": "code",
      "metadata": {
        "colab": {
          "base_uri": "https://localhost:8080/"
        },
        "id": "7Vpyr3XEA8y-",
        "outputId": "da18cf36-7f67-4c26-f0ab-d417627083b4"
      },
      "source": [
        "list_d"
      ],
      "execution_count": 124,
      "outputs": [
        {
          "output_type": "execute_result",
          "data": {
            "text/plain": [
              "['a', 56]"
            ]
          },
          "metadata": {},
          "execution_count": 124
        }
      ]
    },
    {
      "cell_type": "markdown",
      "metadata": {
        "id": "Ba7fvmzHBE7T"
      },
      "source": [
        "####การชี้ค่าใน list (indexing)\n",
        "\n",
        "1.   ใช้ลำดับในการชี้\n",
        "2.   ลำดับเริ่มจาก 0\n",
        "3.  สามารถชี้จากข้างหลังได้โดยใช้ negative index\n",
        "\n"
      ]
    },
    {
      "cell_type": "code",
      "metadata": {
        "colab": {
          "base_uri": "https://localhost:8080/"
        },
        "id": "9QLxXHrHA-Iv",
        "outputId": "3317ffe6-f51d-4de0-c17a-866ecfa828f4"
      },
      "source": [
        "list_b"
      ],
      "execution_count": 125,
      "outputs": [
        {
          "output_type": "execute_result",
          "data": {
            "text/plain": [
              "[2, 'xyz', [1, 2, 0, 'abs'], [1, 2, 0.0]]"
            ]
          },
          "metadata": {},
          "execution_count": 125
        }
      ]
    },
    {
      "cell_type": "code",
      "metadata": {
        "colab": {
          "base_uri": "https://localhost:8080/"
        },
        "id": "l-sZpYrRBdUF",
        "outputId": "d55c8b98-2366-449e-f7d9-2cfa6c00b2f2"
      },
      "source": [
        "list_b[-1] #ชี้จากข้างหลัง"
      ],
      "execution_count": 126,
      "outputs": [
        {
          "output_type": "execute_result",
          "data": {
            "text/plain": [
              "[1, 2, 0.0]"
            ]
          },
          "metadata": {},
          "execution_count": 126
        }
      ]
    },
    {
      "cell_type": "markdown",
      "metadata": {
        "id": "7jeOjpHYCO5i"
      },
      "source": [
        "###list slicing (เฉือนlist)"
      ]
    },
    {
      "cell_type": "code",
      "metadata": {
        "id": "yV_xF7C2Bfv4"
      },
      "source": [
        "list_ex = [1,2,3,5,6,8,-1,20,50,0]"
      ],
      "execution_count": 127,
      "outputs": []
    },
    {
      "cell_type": "markdown",
      "metadata": {
        "id": "tJzjV4BkC8Ag"
      },
      "source": [
        "เราจะตัดlist โดยเอาตั้งแต่ [ตัวหน้า:ตัวก่อนตัวหลัง]\n",
        "\n",
        "ถ้าเป็นสัญลักษณ์คณิตศาสตร์[ตัวหน้า:ตัวหลัง]->[ตัวหน้า,ตัวหลัง)"
      ]
    },
    {
      "cell_type": "code",
      "metadata": {
        "colab": {
          "base_uri": "https://localhost:8080/"
        },
        "id": "sdYsS-IbCY6V",
        "outputId": "cca6412a-aee9-4fea-c03e-0117ca2530c1"
      },
      "source": [
        "list_ex[1:6]  #นำตัวที่ 1-6มา โดยนับจาก0"
      ],
      "execution_count": 128,
      "outputs": [
        {
          "output_type": "execute_result",
          "data": {
            "text/plain": [
              "[2, 3, 5, 6, 8]"
            ]
          },
          "metadata": {},
          "execution_count": 128
        }
      ]
    },
    {
      "cell_type": "code",
      "metadata": {
        "colab": {
          "base_uri": "https://localhost:8080/"
        },
        "id": "kBRhK1I7Cjay",
        "outputId": "3a0927e8-bc05-431b-e937-6e7be90fb817"
      },
      "source": [
        "list_ex[4:]   #ตัวที่4 ถึงตัวท้าย"
      ],
      "execution_count": 129,
      "outputs": [
        {
          "output_type": "execute_result",
          "data": {
            "text/plain": [
              "[6, 8, -1, 20, 50, 0]"
            ]
          },
          "metadata": {},
          "execution_count": 129
        }
      ]
    },
    {
      "cell_type": "code",
      "metadata": {
        "colab": {
          "base_uri": "https://localhost:8080/"
        },
        "id": "u7nNo1DUDhKd",
        "outputId": "23a0fd2a-4a18-4ac2-a3fd-778b8ac47d8e"
      },
      "source": [
        "list_ex[:6]   #ตัวแรกถึงตัวก่อนตัวที่6"
      ],
      "execution_count": 130,
      "outputs": [
        {
          "output_type": "execute_result",
          "data": {
            "text/plain": [
              "[1, 2, 3, 5, 6, 8]"
            ]
          },
          "metadata": {},
          "execution_count": 130
        }
      ]
    },
    {
      "cell_type": "markdown",
      "metadata": {
        "id": "Cm2CM4tWEJ_R"
      },
      "source": [
        "[จุดเริ่มต้น:จุดสุดท้าย:step]"
      ]
    },
    {
      "cell_type": "code",
      "metadata": {
        "colab": {
          "base_uri": "https://localhost:8080/"
        },
        "id": "1QFPS_IwDkEb",
        "outputId": "a8680221-38f0-4a7e-d770-6ea4ad40c5d8"
      },
      "source": [
        "list_ex[::2]  #สลับเลข"
      ],
      "execution_count": 131,
      "outputs": [
        {
          "output_type": "execute_result",
          "data": {
            "text/plain": [
              "[1, 3, 6, -1, 50]"
            ]
          },
          "metadata": {},
          "execution_count": 131
        }
      ]
    },
    {
      "cell_type": "code",
      "metadata": {
        "colab": {
          "base_uri": "https://localhost:8080/"
        },
        "id": "HTSNj0c5ED8c",
        "outputId": "904c381f-3177-4aff-827e-36c64a659160"
      },
      "source": [
        "list_ex[::-1]  #การกลับ list"
      ],
      "execution_count": 132,
      "outputs": [
        {
          "output_type": "execute_result",
          "data": {
            "text/plain": [
              "[0, 50, 20, -1, 8, 6, 5, 3, 2, 1]"
            ]
          },
          "metadata": {},
          "execution_count": 132
        }
      ]
    },
    {
      "cell_type": "code",
      "metadata": {
        "colab": {
          "base_uri": "https://localhost:8080/",
          "height": 35
        },
        "id": "xLV8OcDLErCI",
        "outputId": "0763afac-db84-4ea8-84ae-25a4f0ad5a24"
      },
      "source": [
        "a"
      ],
      "execution_count": 133,
      "outputs": [
        {
          "output_type": "execute_result",
          "data": {
            "application/vnd.google.colaboratory.intrinsic+json": {
              "type": "string"
            },
            "text/plain": [
              "'Stat KKU'"
            ]
          },
          "metadata": {},
          "execution_count": 133
        }
      ]
    },
    {
      "cell_type": "code",
      "metadata": {
        "colab": {
          "base_uri": "https://localhost:8080/",
          "height": 35
        },
        "id": "Kdh-tWQWE_If",
        "outputId": "d9776b7e-0c47-4ade-eac9-6f3116f8ca2e"
      },
      "source": [
        "a[-3:]\n",
        "a[5:8]\n",
        "a[5::]\n",
        "a[-3::]\n",
        "a[-3::1]"
      ],
      "execution_count": 134,
      "outputs": [
        {
          "output_type": "execute_result",
          "data": {
            "application/vnd.google.colaboratory.intrinsic+json": {
              "type": "string"
            },
            "text/plain": [
              "'KKU'"
            ]
          },
          "metadata": {},
          "execution_count": 134
        }
      ]
    },
    {
      "cell_type": "markdown",
      "metadata": {
        "id": "NSASizFWHF4g"
      },
      "source": [
        "###list+list"
      ]
    },
    {
      "cell_type": "code",
      "metadata": {
        "colab": {
          "base_uri": "https://localhost:8080/"
        },
        "id": "eU_6JX_tF__F",
        "outputId": "0990d337-70b2-435e-811a-47a0b1c69a90"
      },
      "source": [
        "print(list_a)\n",
        "print(list_b)"
      ],
      "execution_count": 135,
      "outputs": [
        {
          "output_type": "stream",
          "name": "stdout",
          "text": [
            "[1, 2, 0, 'abs']\n",
            "[2, 'xyz', [1, 2, 0, 'abs'], [1, 2, 0.0]]\n"
          ]
        }
      ]
    },
    {
      "cell_type": "code",
      "metadata": {
        "colab": {
          "base_uri": "https://localhost:8080/"
        },
        "id": "pLWvrKu-HOgl",
        "outputId": "3c5d623e-86de-460f-fb02-fcb4d3dbc7a5"
      },
      "source": [
        "list_a + list_b #รวม list"
      ],
      "execution_count": 136,
      "outputs": [
        {
          "output_type": "execute_result",
          "data": {
            "text/plain": [
              "[1, 2, 0, 'abs', 2, 'xyz', [1, 2, 0, 'abs'], [1, 2, 0.0]]"
            ]
          },
          "metadata": {},
          "execution_count": 136
        }
      ]
    },
    {
      "cell_type": "markdown",
      "metadata": {
        "id": "bfXo8uedLU99"
      },
      "source": [
        "format string"
      ]
    },
    {
      "cell_type": "markdown",
      "metadata": {
        "id": "C5WBba2wL1E6"
      },
      "source": [
        "```python\n",
        "f'string{ตัวแปร}'\n",
        "```"
      ]
    },
    {
      "cell_type": "markdown",
      "metadata": {
        "id": "z0IFGEBzMOPA"
      },
      "source": [
        "{} เรียกว่า curly brackets"
      ]
    },
    {
      "cell_type": "code",
      "metadata": {
        "colab": {
          "base_uri": "https://localhost:8080/",
          "height": 35
        },
        "id": "fGRkVBZQLXem",
        "outputId": "7ecb8030-1ae1-4750-a917-4b0de159f097"
      },
      "source": [
        "f'ตัวแปร list_a มีค่าคือ {list_a}'"
      ],
      "execution_count": 137,
      "outputs": [
        {
          "output_type": "execute_result",
          "data": {
            "application/vnd.google.colaboratory.intrinsic+json": {
              "type": "string"
            },
            "text/plain": [
              "\"ตัวแปร list_a มีค่าคือ [1, 2, 0, 'abs']\""
            ]
          },
          "metadata": {},
          "execution_count": 137
        }
      ]
    },
    {
      "cell_type": "markdown",
      "metadata": {
        "id": "IS-Z6pWbHsMN"
      },
      "source": [
        "##Loop"
      ]
    },
    {
      "cell_type": "markdown",
      "metadata": {
        "id": "u47mLm-hBo4v"
      },
      "source": [
        "ทำงานซ้ำ หรือ ทำงานคล้ายๆกัน"
      ]
    },
    {
      "cell_type": "markdown",
      "metadata": {
        "id": "GnEs8HbLKdFQ"
      },
      "source": [
        "indent\n",
        "```python\n",
        "for ตัวแปรที่จะรับค่าจากลิสต์ in ลิสต์ที่จะนำมาวนลูป :\n",
        "  do something  #in_loop\n",
        "  do another thing  #in loop\n",
        "\n",
        "do other thing #out side loop\n",
        "```"
      ]
    },
    {
      "cell_type": "code",
      "metadata": {
        "colab": {
          "base_uri": "https://localhost:8080/"
        },
        "id": "fKKgC_iWJq23",
        "outputId": "255abe67-55a3-4dd2-9fb5-96a9902a57cf"
      },
      "source": [
        "for i in [1,2,3,4,5]:   #iคือ123 print i+1=234\n",
        "  print(i+1)"
      ],
      "execution_count": 138,
      "outputs": [
        {
          "output_type": "stream",
          "name": "stdout",
          "text": [
            "2\n",
            "3\n",
            "4\n",
            "5\n",
            "6\n"
          ]
        }
      ]
    },
    {
      "cell_type": "code",
      "metadata": {
        "colab": {
          "base_uri": "https://localhost:8080/"
        },
        "id": "B-U19MeHMZlf",
        "outputId": "45cbf7df-1224-44a9-9cf3-36dd75cf2b54"
      },
      "source": [
        "for x in [1,2,3,4,5]:\n",
        "  print(f'ตัวแปร x ตือ {x} และ x+2={x+2}')"
      ],
      "execution_count": 139,
      "outputs": [
        {
          "output_type": "stream",
          "name": "stdout",
          "text": [
            "ตัวแปร x ตือ 1 และ x+2=3\n",
            "ตัวแปร x ตือ 2 และ x+2=4\n",
            "ตัวแปร x ตือ 3 และ x+2=5\n",
            "ตัวแปร x ตือ 4 และ x+2=6\n",
            "ตัวแปร x ตือ 5 และ x+2=7\n"
          ]
        }
      ]
    },
    {
      "cell_type": "code",
      "metadata": {
        "colab": {
          "base_uri": "https://localhost:8080/"
        },
        "id": "GkYPkpJSM6Ee",
        "outputId": "98529b34-dbd8-472a-d9c3-9132e0607f43"
      },
      "source": [
        "list5=[1,2,3,4,5]\n",
        "for x in list5:\n",
        "  print(f'ตัวแปร x ตือ {x} และ x+2={x+2}')"
      ],
      "execution_count": 140,
      "outputs": [
        {
          "output_type": "stream",
          "name": "stdout",
          "text": [
            "ตัวแปร x ตือ 1 และ x+2=3\n",
            "ตัวแปร x ตือ 2 และ x+2=4\n",
            "ตัวแปร x ตือ 3 และ x+2=5\n",
            "ตัวแปร x ตือ 4 และ x+2=6\n",
            "ตัวแปร x ตือ 5 และ x+2=7\n"
          ]
        }
      ]
    },
    {
      "cell_type": "code",
      "metadata": {
        "colab": {
          "base_uri": "https://localhost:8080/"
        },
        "id": "xIBFt0xLNJvc",
        "outputId": "d108c841-49e9-4dc0-b55a-e86f21b3c23e"
      },
      "source": [
        "list(range(10))  #สร้างค่าตั้งแต่0ถึง9"
      ],
      "execution_count": 141,
      "outputs": [
        {
          "output_type": "execute_result",
          "data": {
            "text/plain": [
              "[0, 1, 2, 3, 4, 5, 6, 7, 8, 9]"
            ]
          },
          "metadata": {},
          "execution_count": 141
        }
      ]
    },
    {
      "cell_type": "code",
      "metadata": {
        "colab": {
          "base_uri": "https://localhost:8080/"
        },
        "id": "tUEeGtBtNTTs",
        "outputId": "6272299e-bb0e-4567-ec58-b5689db0aec5"
      },
      "source": [
        "for i in range(2,7):\n",
        "  print(i)"
      ],
      "execution_count": 142,
      "outputs": [
        {
          "output_type": "stream",
          "name": "stdout",
          "text": [
            "2\n",
            "3\n",
            "4\n",
            "5\n",
            "6\n"
          ]
        }
      ]
    },
    {
      "cell_type": "code",
      "metadata": {
        "colab": {
          "base_uri": "https://localhost:8080/"
        },
        "id": "S4FwJq2EN7us",
        "outputId": "98e700b6-adfb-44dc-a9d3-2c4702395af3"
      },
      "source": [
        "for i in range(2,7,2):\n",
        "  print(i)"
      ],
      "execution_count": 143,
      "outputs": [
        {
          "output_type": "stream",
          "name": "stdout",
          "text": [
            "2\n",
            "4\n",
            "6\n"
          ]
        }
      ]
    },
    {
      "cell_type": "code",
      "metadata": {
        "colab": {
          "base_uri": "https://localhost:8080/"
        },
        "id": "eyKCGdY0OUnz",
        "outputId": "c18bcfd0-8e2c-4098-d472-05fb94383cac"
      },
      "source": [
        "for i in range(5):\n",
        "  print('hahaha')\n",
        "  x = i + 3\n",
        "  print(f'i={i} x={x}')"
      ],
      "execution_count": 144,
      "outputs": [
        {
          "output_type": "stream",
          "name": "stdout",
          "text": [
            "hahaha\n",
            "i=0 x=3\n",
            "hahaha\n",
            "i=1 x=4\n",
            "hahaha\n",
            "i=2 x=5\n",
            "hahaha\n",
            "i=3 x=6\n",
            "hahaha\n",
            "i=4 x=7\n"
          ]
        }
      ]
    },
    {
      "cell_type": "markdown",
      "metadata": {
        "id": "oCFiBH9EPG9y"
      },
      "source": [
        "###Nested loop ลูปซ้อนลูป"
      ]
    },
    {
      "cell_type": "code",
      "metadata": {
        "colab": {
          "base_uri": "https://localhost:8080/"
        },
        "id": "DWw-aVX8Oe41",
        "outputId": "4baa699d-a6fc-4d26-8f12-392c83f5cc7e"
      },
      "source": [
        "for i in range(3):\n",
        "  print(f'now i = {i}')\n",
        "  print('start j loop')\n",
        "  for j in range(4):\n",
        "    print(f'i = {i} j = {j} i+j = {i+j}')\n",
        "    print('end j loop')"
      ],
      "execution_count": 145,
      "outputs": [
        {
          "output_type": "stream",
          "name": "stdout",
          "text": [
            "now i = 0\n",
            "start j loop\n",
            "i = 0 j = 0 i+j = 0\n",
            "end j loop\n",
            "i = 0 j = 1 i+j = 1\n",
            "end j loop\n",
            "i = 0 j = 2 i+j = 2\n",
            "end j loop\n",
            "i = 0 j = 3 i+j = 3\n",
            "end j loop\n",
            "now i = 1\n",
            "start j loop\n",
            "i = 1 j = 0 i+j = 1\n",
            "end j loop\n",
            "i = 1 j = 1 i+j = 2\n",
            "end j loop\n",
            "i = 1 j = 2 i+j = 3\n",
            "end j loop\n",
            "i = 1 j = 3 i+j = 4\n",
            "end j loop\n",
            "now i = 2\n",
            "start j loop\n",
            "i = 2 j = 0 i+j = 2\n",
            "end j loop\n",
            "i = 2 j = 1 i+j = 3\n",
            "end j loop\n",
            "i = 2 j = 2 i+j = 4\n",
            "end j loop\n",
            "i = 2 j = 3 i+j = 5\n",
            "end j loop\n"
          ]
        }
      ]
    },
    {
      "cell_type": "markdown",
      "metadata": {
        "id": "b2eEddZSJn87"
      },
      "source": [
        "##Condition (if statement) เงือนไข"
      ]
    },
    {
      "cell_type": "markdown",
      "metadata": {
        "id": "S1TEgIy2FluK"
      },
      "source": [
        "```python\n",
        "if เงื่อนไขที่จะตรวจสอบ (โดยใช้สัญลักษณ์==,!=,<,>,<=,>=):\n",
        "    ถ้าเงื่อนไขเป็นจริง ทำงาน 1\n",
        "    ถ้าเงื่อนไขเป็นจริง ทำงาน 2\n",
        "else: #ตรวจสอบเงื่อนไขข้างบนแล้วไม่เป็นจริง\n",
        "    ทำงานที่ x\n",
        "\n",
        "```"
      ]
    },
    {
      "cell_type": "code",
      "metadata": {
        "colab": {
          "base_uri": "https://localhost:8080/"
        },
        "id": "yMI5pJ8IGFK_",
        "outputId": "3506d60f-a597-46a6-fe6a-0151e91e3dcd"
      },
      "source": [
        "stringx = 'sa;djakjsdjf;sdjfslk;jdgjghjghjgjkgkhfkj'  #เป็นจริงก็มีข้อมูลออกมา\n",
        "\n",
        "if len(stringx) > 30:\n",
        "  print(f'{stringx} is longer than 30 characters')"
      ],
      "execution_count": 146,
      "outputs": [
        {
          "output_type": "stream",
          "name": "stdout",
          "text": [
            "sa;djakjsdjf;sdjfslk;jdgjghjghjgjkgkhfkj is longer than 30 characters\n"
          ]
        }
      ]
    },
    {
      "cell_type": "code",
      "metadata": {
        "colab": {
          "base_uri": "https://localhost:8080/"
        },
        "id": "Vn2F6RFkG4JK",
        "outputId": "c0682663-9a51-40e6-b8f4-02d2443c6b33"
      },
      "source": [
        "stringx = 'sa;djakjsdjf;sdjfslk;jdgjghjghjgjkgkhfkj'   #ไม่เป็นจริงก็ไม่มีข้อมูลออกมา\n",
        "\n",
        "if len(stringx) > 100:\n",
        "  print(f'{stringx} is longer than 30 characters')\n",
        "else:\n",
        "  print(f'{stringx} in {len(stringx)} characters long')  #ถ้าไม่จรริงแล้วให้แสดงจำนวนทั้งหมด"
      ],
      "execution_count": 147,
      "outputs": [
        {
          "output_type": "stream",
          "name": "stdout",
          "text": [
            "sa;djakjsdjf;sdjfslk;jdgjghjghjgjkgkhfkj in 40 characters long\n"
          ]
        }
      ]
    },
    {
      "cell_type": "markdown",
      "metadata": {
        "id": "jMDjhFyRJLEx"
      },
      "source": [
        "```python\n",
        "if เงื่อนไขที่จะตรวจสอบ (โดยใช้สัญลักษณ์==,!=,<,>,<=,>=):\n",
        "    ถ้าเงื่อนไขเป็นจริง ทำงาน 1\n",
        "    ถ้าเงื่อนไขเป็นจริง ทำงาน 2\n",
        "elif เงื่อนไขที่จะตรวจสอบต่อไปถ้าเงื่อนไขข้างบนไม่เป็นจริง:\n",
        "  ถ้าเงื่อนไขเป็นจริง ทำงาน a1\n",
        "  ถ้าเงื่อนไขเป็นจริง ทำงาน a2\n",
        "elif เงื่อนไขที่จะตรวจสอบต่อไปถ้าเงื่อนไขข้างบนไม่เป็นจริง:\n",
        "  ถ้าเงื่อนไขเป็นจริง ทำงาน b1\n",
        "  ถ้าเงื่อนไขเป็นจริง ทำงาน b2\n",
        "else: #ตรวจสอบเงื่อนไขข้างบนแล้วไม่เป็นจริง\n",
        "    ทำงานที่ x\n",
        "```"
      ]
    },
    {
      "cell_type": "code",
      "metadata": {
        "colab": {
          "base_uri": "https://localhost:8080/"
        },
        "id": "u-B8KwzDLF4Q",
        "outputId": "c3c893f2-9dfb-449f-992d-d1d35f11d395"
      },
      "source": [
        "password = '12345'\n",
        " \n",
        "input_pass = '12355'\n",
        "if input_pass == password:\n",
        "  print('Welcome!')\n",
        "elif len(input_pass) > len(password):\n",
        "  print('Too long, try again')\n",
        "elif len(input_pass) < len(password):\n",
        "  print('Too short, try again')\n",
        "else:\n",
        "  print('Wrong password, try again')"
      ],
      "execution_count": 148,
      "outputs": [
        {
          "output_type": "stream",
          "name": "stdout",
          "text": [
            "Wrong password, try again\n"
          ]
        }
      ]
    },
    {
      "cell_type": "markdown",
      "metadata": {
        "id": "UYXDvNxPK-2L"
      },
      "source": [
        "#####Quiz 1 หา min"
      ]
    },
    {
      "cell_type": "code",
      "metadata": {
        "id": "U38gp5zRNgWC"
      },
      "source": [
        "list_ex = [1,5,9,-19,-2,0] #หาค่าน้อยที่สุดใน list_ex โดยไม่ใช้ function min (comit ก่อน 10:30 :Quiz1)"
      ],
      "execution_count": 149,
      "outputs": []
    },
    {
      "cell_type": "markdown",
      "metadata": {
        "id": "uR4GZlM-SvRL"
      },
      "source": [
        "เฉลยQuiz1"
      ]
    },
    {
      "cell_type": "code",
      "metadata": {
        "id": "VnDrv_8kSykx",
        "colab": {
          "base_uri": "https://localhost:8080/"
        },
        "outputId": "dc262d73-9eaa-4d15-adbf-5845258a9593"
      },
      "source": [
        "min = 1000000\n",
        "for i in list_ex: \n",
        "  if i < min:\n",
        "    min = i\n",
        "\n",
        "print(min)"
      ],
      "execution_count": 150,
      "outputs": [
        {
          "output_type": "stream",
          "name": "stdout",
          "text": [
            "-19\n"
          ]
        }
      ]
    },
    {
      "cell_type": "code",
      "metadata": {
        "id": "-2IihOv2ULKX",
        "colab": {
          "base_uri": "https://localhost:8080/"
        },
        "outputId": "40c54c4c-82d3-4413-ca35-141f640549e9"
      },
      "source": [
        "min = 1000000\n",
        "print(list_ex)\n",
        "for i in list_ex:\n",
        "  print(f'now i = {i}, min = {min}')\n",
        "  print('start codition')\n",
        "  if i < min:\n",
        "    print(f'i < min, update min -> {i}')\n",
        "    min = i\n",
        "  else:\n",
        "    print('i >= min, not update')\n",
        "  print('end codition, go to next i')\n",
        "\n",
        "print(min)"
      ],
      "execution_count": 151,
      "outputs": [
        {
          "output_type": "stream",
          "name": "stdout",
          "text": [
            "[1, 5, 9, -19, -2, 0]\n",
            "now i = 1, min = 1000000\n",
            "start codition\n",
            "i < min, update min -> 1\n",
            "end codition, go to next i\n",
            "now i = 5, min = 1\n",
            "start codition\n",
            "i >= min, not update\n",
            "end codition, go to next i\n",
            "now i = 9, min = 1\n",
            "start codition\n",
            "i >= min, not update\n",
            "end codition, go to next i\n",
            "now i = -19, min = 1\n",
            "start codition\n",
            "i < min, update min -> -19\n",
            "end codition, go to next i\n",
            "now i = -2, min = -19\n",
            "start codition\n",
            "i >= min, not update\n",
            "end codition, go to next i\n",
            "now i = 0, min = -19\n",
            "start codition\n",
            "i >= min, not update\n",
            "end codition, go to next i\n",
            "-19\n"
          ]
        }
      ]
    },
    {
      "cell_type": "code",
      "metadata": {
        "id": "Q2RvJF21Tk5A",
        "colab": {
          "base_uri": "https://localhost:8080/"
        },
        "outputId": "a22934db-2a02-4c24-d06d-51740e608433"
      },
      "source": [
        "max = 1   #ค่าmax\n",
        "for i in list_ex:\n",
        "  if i > max:\n",
        "    max = i\n",
        "\n",
        "print(max)"
      ],
      "execution_count": 152,
      "outputs": [
        {
          "output_type": "stream",
          "name": "stdout",
          "text": [
            "9\n"
          ]
        }
      ]
    },
    {
      "cell_type": "markdown",
      "metadata": {
        "id": "GDS6UX5KLDeH"
      },
      "source": [
        "#####HW3 ตัดเกรด"
      ]
    },
    {
      "cell_type": "code",
      "metadata": {
        "id": "cHoxpbIkNjri"
      },
      "source": [
        "score = [49,65,70,95,82,55,89,20,77,77,81,59,10] #ตัดเกรด คะแนนใน list score (ใช้ if กับ for)"
      ],
      "execution_count": 153,
      "outputs": []
    },
    {
      "cell_type": "markdown",
      "metadata": {
        "id": "tqoyI2RqAI95"
      },
      "source": [
        "ตัดเกรดตามเกณฑ์\n",
        "\n",
        "*   80 - 100 = A\n",
        "*   75 - 79 = B+\n",
        "*   70-74   = B\n",
        "*  65 - 69  = C+\n",
        "*  60 - 64  = C\n",
        "*  55 - 59  = D+\n",
        "*  50 - 54  =D \n",
        "*  49 - 0    = F"
      ]
    },
    {
      "cell_type": "code",
      "metadata": {
        "id": "kVLMV9xJWdSW"
      },
      "source": [
        "# list แต่ละช่วงของเกรด\n",
        "list_A = []\n",
        "list_Bplus = []\n",
        "list_B = []\n",
        "list_Cplus = []\n",
        "list_C = []\n",
        "list_Dplus = []\n",
        "list_D = []\n",
        "list_F = []"
      ],
      "execution_count": 154,
      "outputs": []
    },
    {
      "cell_type": "code",
      "metadata": {
        "id": "ffU8btIOBQFE"
      },
      "source": [
        "# loop ของคะแนนตามช่วง\n",
        "for i in  score[:]:\n",
        "    if i >= 80:\n",
        "      list_A.append(i)   \n",
        "    if 75 <= i <= 79:\n",
        "      list_Bplus.append(i)\n",
        "    if 70 <= i <= 74:\n",
        "      list_B.append(i)\n",
        "    if 65 <= i <= 69:\n",
        "      list_Cplus.append(i)\n",
        "    if 60 <= i <= 64:\n",
        "      list_C.append(i)\n",
        "    if 55 <= i <= 59:\n",
        "      list_Dplus.append(i)\n",
        "    if 50 <= i <= 54:\n",
        "      list_D.append(i)\n",
        "    if i <= 49:\n",
        "      list_F.append(i)"
      ],
      "execution_count": 155,
      "outputs": []
    },
    {
      "cell_type": "code",
      "metadata": {
        "id": "EF2iq0HSCiXW",
        "colab": {
          "base_uri": "https://localhost:8080/"
        },
        "outputId": "a54ae3d0-eb7d-4b70-a681-bb62677eb800"
      },
      "source": [
        "#แสดงเกรดเเละจำนวนคนที่ได้\n",
        "print(f'ได้เกรด A      {len(list_A)}  คน       ได้แก่list  {list_A}')\n",
        "print(f'ได้เกรด B+    {len(list_Bplus)}  คน       ได้แก่list  {list_Bplus}')\n",
        "print(f'ได้เกรด B      {len(list_B)}  คน       ได้แก่list  {list_B}')\n",
        "print(f'ได้เกรด C+    {len(list_Cplus)}  คน       ได้แก่list  {list_Cplus}')\n",
        "print(f'ได้เกรด C      {len(list_C)}  คน       ได้แก่list  {list_C}')\n",
        "print(f'ได้เกรด D+    {len(list_Dplus)}  คน       ได้แก่list  {list_Dplus}')\n",
        "print(f'ได้เกรด D      {len(list_D)}  คน       ได้แก่list  {list_D}')\n",
        "print(f'ได้เกรด F      {len(list_F)}  คน       ได้แก่list  {list_F}')"
      ],
      "execution_count": 156,
      "outputs": [
        {
          "output_type": "stream",
          "name": "stdout",
          "text": [
            "ได้เกรด A      4  คน       ได้แก่list  [95, 82, 89, 81]\n",
            "ได้เกรด B+    2  คน       ได้แก่list  [77, 77]\n",
            "ได้เกรด B      1  คน       ได้แก่list  [70]\n",
            "ได้เกรด C+    1  คน       ได้แก่list  [65]\n",
            "ได้เกรด C      0  คน       ได้แก่list  []\n",
            "ได้เกรด D+    2  คน       ได้แก่list  [55, 59]\n",
            "ได้เกรด D      0  คน       ได้แก่list  []\n",
            "ได้เกรด F      3  คน       ได้แก่list  [49, 20, 10]\n"
          ]
        }
      ]
    },
    {
      "cell_type": "markdown",
      "metadata": {
        "id": "yAx4QAqJwwAs"
      },
      "source": [
        "##Function\n",
        "\n",
        "\n",
        "\n",
        "```python\n",
        "def ชื่อฟังก์ชั่น(input1,input2,...):\n",
        "  งานxxx\n",
        "  งานyyy\n",
        "  return output\n",
        "```\n",
        "\n",
        "\n",
        "ส่วนประกอบสำคัญ\n",
        "*   input\n",
        "*   process (ไม่มีไม่ได้)\n",
        "*   output\n",
        "\n",
        "![image.png](data:image/png;base64,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)\n",
        "\n"
      ]
    },
    {
      "cell_type": "markdown",
      "metadata": {
        "id": "5WsPEo2MyzUA"
      },
      "source": [
        "####Example1 ตัวอย่างฟังก์ชัน"
      ]
    },
    {
      "cell_type": "code",
      "metadata": {
        "id": "uI6qG-mMxEBr"
      },
      "source": [
        "def grading(score):\n",
        "    if score >= 80:\n",
        "        grade = 'A'\n",
        "    elif score >= 75:\n",
        "        grade = 'B+'\n",
        "    elif score >= 70:\n",
        "        grade = 'B'\n",
        "    elif score >= 65:\n",
        "        grade = 'C+'\n",
        "    elif score >= 60:\n",
        "        grade = 'C'\n",
        "    elif score >= 55:\n",
        "        grade = 'D+'\n",
        "    elif score >= 50:\n",
        "        grade = 'D'\n",
        "    else:\n",
        "        grade ='F'\n",
        "\n",
        "    return grade"
      ],
      "execution_count": 157,
      "outputs": []
    },
    {
      "cell_type": "code",
      "metadata": {
        "colab": {
          "base_uri": "https://localhost:8080/"
        },
        "id": "vDqCIl1a0ZDN",
        "outputId": "56ef1f82-38c8-4e1a-f7b2-2dc25a341407"
      },
      "source": [
        "score = [49,65,70,95,82,55,89,20,77,77,81,59,10]\n",
        "for i in score:\n",
        "    print(f'คะแนน {i} ได้เกรด {grading(i)}')"
      ],
      "execution_count": 158,
      "outputs": [
        {
          "output_type": "stream",
          "name": "stdout",
          "text": [
            "คะแนน 49 ได้เกรด F\n",
            "คะแนน 65 ได้เกรด C+\n",
            "คะแนน 70 ได้เกรด B\n",
            "คะแนน 95 ได้เกรด A\n",
            "คะแนน 82 ได้เกรด A\n",
            "คะแนน 55 ได้เกรด D+\n",
            "คะแนน 89 ได้เกรด A\n",
            "คะแนน 20 ได้เกรด F\n",
            "คะแนน 77 ได้เกรด B+\n",
            "คะแนน 77 ได้เกรด B+\n",
            "คะแนน 81 ได้เกรด A\n",
            "คะแนน 59 ได้เกรด D+\n",
            "คะแนน 10 ได้เกรด F\n"
          ]
        }
      ]
    },
    {
      "cell_type": "code",
      "metadata": {
        "id": "FOgbno35096-"
      },
      "source": [
        "def grading_list(list_score):\n",
        "    grade_list = []\n",
        "    for score in list_score:\n",
        "        if score >= 80:\n",
        "            grade = 'A'\n",
        "        elif score >= 75:\n",
        "            grade = 'B+'\n",
        "        elif score >= 70:\n",
        "            grade = 'B'\n",
        "        elif score >= 65:\n",
        "            grade = 'C+'\n",
        "        elif score >= 60:\n",
        "            grade = 'C'\n",
        "        elif score >= 55:\n",
        "            grade = 'D+'\n",
        "        elif score >= 50:\n",
        "            grade = 'D'\n",
        "        else:\n",
        "            grade ='F'\n",
        "        grade_list.append([score,grade])\n",
        "    return grade_list"
      ],
      "execution_count": 159,
      "outputs": []
    },
    {
      "cell_type": "code",
      "metadata": {
        "colab": {
          "base_uri": "https://localhost:8080/"
        },
        "id": "c4gXsJYf3RzV",
        "outputId": "b352f4cb-bf75-4325-ad52-00e81787d0b1"
      },
      "source": [
        "g = grading_list(score)\n",
        "g"
      ],
      "execution_count": 160,
      "outputs": [
        {
          "output_type": "execute_result",
          "data": {
            "text/plain": [
              "[[49, 'F'],\n",
              " [65, 'C+'],\n",
              " [70, 'B'],\n",
              " [95, 'A'],\n",
              " [82, 'A'],\n",
              " [55, 'D+'],\n",
              " [89, 'A'],\n",
              " [20, 'F'],\n",
              " [77, 'B+'],\n",
              " [77, 'B+'],\n",
              " [81, 'A'],\n",
              " [59, 'D+'],\n",
              " [10, 'F']]"
            ]
          },
          "metadata": {},
          "execution_count": 160
        }
      ]
    },
    {
      "cell_type": "code",
      "metadata": {
        "colab": {
          "base_uri": "https://localhost:8080/"
        },
        "id": "RvuBfn0543Sa",
        "outputId": "f7e01d92-9cf2-4e74-bbcb-1d77e875d86a"
      },
      "source": [
        "for i in g:\n",
        "        print(f'คะแนน {i[0]} ได้เกรด {i[1]}')"
      ],
      "execution_count": 161,
      "outputs": [
        {
          "output_type": "stream",
          "name": "stdout",
          "text": [
            "คะแนน 49 ได้เกรด F\n",
            "คะแนน 65 ได้เกรด C+\n",
            "คะแนน 70 ได้เกรด B\n",
            "คะแนน 95 ได้เกรด A\n",
            "คะแนน 82 ได้เกรด A\n",
            "คะแนน 55 ได้เกรด D+\n",
            "คะแนน 89 ได้เกรด A\n",
            "คะแนน 20 ได้เกรด F\n",
            "คะแนน 77 ได้เกรด B+\n",
            "คะแนน 77 ได้เกรด B+\n",
            "คะแนน 81 ได้เกรด A\n",
            "คะแนน 59 ได้เกรด D+\n",
            "คะแนน 10 ได้เกรด F\n"
          ]
        }
      ]
    },
    {
      "cell_type": "code",
      "metadata": {
        "id": "KkBQKnj07Ql6"
      },
      "source": [
        "def grading2(score):\n",
        "    if score >= 80:\n",
        "        return 'A'\n",
        "    elif score >= 75:\n",
        "        return 'B+'\n",
        "    elif score >= 70:\n",
        "        return 'B'\n",
        "    elif score >= 65:\n",
        "        return 'C+'\n",
        "    elif score >= 60:\n",
        "        return 'C'\n",
        "    elif score >= 55:\n",
        "        return 'D+'\n",
        "    elif score >= 50:\n",
        "        return 'D'\n",
        "    else:\n",
        "        return 'F'"
      ],
      "execution_count": 162,
      "outputs": []
    },
    {
      "cell_type": "code",
      "metadata": {
        "colab": {
          "base_uri": "https://localhost:8080/"
        },
        "id": "GQ8FxmF17lOt",
        "outputId": "e6fda5b7-d320-42fc-f9c9-51078cb013d4"
      },
      "source": [
        "score = [49,65,70,95,82,55,89,20,77,77,81,59,10]\n",
        "for i in score:\n",
        "    print(f'คะแนน {i} ได้เกรด {grading2(i)}')"
      ],
      "execution_count": 163,
      "outputs": [
        {
          "output_type": "stream",
          "name": "stdout",
          "text": [
            "คะแนน 49 ได้เกรด F\n",
            "คะแนน 65 ได้เกรด C+\n",
            "คะแนน 70 ได้เกรด B\n",
            "คะแนน 95 ได้เกรด A\n",
            "คะแนน 82 ได้เกรด A\n",
            "คะแนน 55 ได้เกรด D+\n",
            "คะแนน 89 ได้เกรด A\n",
            "คะแนน 20 ได้เกรด F\n",
            "คะแนน 77 ได้เกรด B+\n",
            "คะแนน 77 ได้เกรด B+\n",
            "คะแนน 81 ได้เกรด A\n",
            "คะแนน 59 ได้เกรด D+\n",
            "คะแนน 10 ได้เกรด F\n"
          ]
        }
      ]
    },
    {
      "cell_type": "markdown",
      "metadata": {
        "id": "kHtiCAIW9ITG"
      },
      "source": [
        "####Example 2 (ไม่มี input)"
      ]
    },
    {
      "cell_type": "code",
      "metadata": {
        "id": "GTIEWQRk7p1J"
      },
      "source": [
        "def mypi():\n",
        "    return 3.14"
      ],
      "execution_count": 164,
      "outputs": []
    },
    {
      "cell_type": "code",
      "metadata": {
        "colab": {
          "base_uri": "https://localhost:8080/"
        },
        "id": "s4HzeDfo9Uro",
        "outputId": "b1c1dd3d-1465-4358-af8a-f8e24222a1df"
      },
      "source": [
        "r = 10\n",
        "print(f'รัศมี = {r} จะมีเส้นรอบวง = {2*mypi()*r}')"
      ],
      "execution_count": 165,
      "outputs": [
        {
          "output_type": "stream",
          "name": "stdout",
          "text": [
            "รัศมี = 10 จะมีเส้นรอบวง = 62.800000000000004\n"
          ]
        }
      ]
    },
    {
      "cell_type": "markdown",
      "metadata": {
        "id": "tiGL4gFu94eH"
      },
      "source": [
        "####Example 3 (ไม่มี output)"
      ]
    },
    {
      "cell_type": "code",
      "metadata": {
        "id": "rln4Wa_O9sVb"
      },
      "source": [
        "def grading_nooutput(score):\n",
        "    if i >= 80:\n",
        "        print('ได้เกรด A')\n",
        "    elif i >= 75:\n",
        "        print('ได้เกรด B+')\n",
        "    elif i >= 70:\n",
        "     print('ได้เกรด B')\n",
        "    elif i >= 65:\n",
        "        print('ได้เกรด C+')\n",
        "    elif i >= 60:\n",
        "        print('ได้เกรด C')\n",
        "    elif i >= 55:\n",
        "        print('ได้เกรด D+')\n",
        "    elif i >= 50:\n",
        "        print('ได้เกรด D')\n",
        "    else:\n",
        "        print('ได้เกรด F')"
      ],
      "execution_count": 166,
      "outputs": []
    },
    {
      "cell_type": "code",
      "metadata": {
        "colab": {
          "base_uri": "https://localhost:8080/"
        },
        "id": "O9RwJowb-QY1",
        "outputId": "379d0189-d106-432f-d427-56abd542175f"
      },
      "source": [
        "score = [49,65,70,95,82,55,89,20,77,77,81,59,10]\n",
        "for i in score:\n",
        "    print(f'คะแนน {i}',end='  ')  #end คือ จบด้วยการ space\n",
        "    grading_nooutput(i)"
      ],
      "execution_count": 167,
      "outputs": [
        {
          "output_type": "stream",
          "name": "stdout",
          "text": [
            "คะแนน 49  ได้เกรด F\n",
            "คะแนน 65  ได้เกรด C+\n",
            "คะแนน 70  ได้เกรด B\n",
            "คะแนน 95  ได้เกรด A\n",
            "คะแนน 82  ได้เกรด A\n",
            "คะแนน 55  ได้เกรด D+\n",
            "คะแนน 89  ได้เกรด A\n",
            "คะแนน 20  ได้เกรด F\n",
            "คะแนน 77  ได้เกรด B+\n",
            "คะแนน 77  ได้เกรด B+\n",
            "คะแนน 81  ได้เกรด A\n",
            "คะแนน 59  ได้เกรด D+\n",
            "คะแนน 10  ได้เกรด F\n"
          ]
        }
      ]
    },
    {
      "cell_type": "markdown",
      "metadata": {
        "id": "HvhFujaz_qQ1"
      },
      "source": [
        "####Example 4 (ไม่มี input และ output)"
      ]
    },
    {
      "cell_type": "code",
      "metadata": {
        "id": "4wmSmYBq-vPd"
      },
      "source": [
        "def  draw_rect():\n",
        "    print('==========')\n",
        "    print('|                     |')\n",
        "    print('|                     |')\n",
        "    print('==========')"
      ],
      "execution_count": 168,
      "outputs": []
    },
    {
      "cell_type": "code",
      "metadata": {
        "colab": {
          "base_uri": "https://localhost:8080/"
        },
        "id": "_BuKMM-mACZb",
        "outputId": "6b5c802f-cc38-4ed4-816a-2ec54ca770cc"
      },
      "source": [
        "draw_rect()\n",
        "draw_rect()"
      ],
      "execution_count": 169,
      "outputs": [
        {
          "output_type": "stream",
          "name": "stdout",
          "text": [
            "==========\n",
            "|                     |\n",
            "|                     |\n",
            "==========\n",
            "==========\n",
            "|                     |\n",
            "|                     |\n",
            "==========\n"
          ]
        }
      ]
    },
    {
      "cell_type": "markdown",
      "metadata": {
        "id": "DA-ZyZ8zBFNS"
      },
      "source": [
        "#### ลักษณะของ input(paremeter)\n",
        "\n",
        "\n",
        "*   จำเป็นต้องใส่\n",
        "*   ไม่จำเป็นต้องใส่\n",
        "\n"
      ]
    },
    {
      "cell_type": "code",
      "metadata": {
        "id": "difpCMMbAExQ"
      },
      "source": [
        "def A(input1, input2 = 3):  #input1คือจำเป็นต้องใส่(เขาไม่เซทค่าdefaultให้) input2คือไม่จำเป็นต้องใส่(เข้าเซทdefaultมาให้)\n",
        "    return input1+input2"
      ],
      "execution_count": 170,
      "outputs": []
    },
    {
      "cell_type": "code",
      "metadata": {
        "colab": {
          "base_uri": "https://localhost:8080/"
        },
        "id": "kZJTj5mABtzi",
        "outputId": "230791e8-3d8a-4ff3-8353-7e894a764891"
      },
      "source": [
        "A(1)"
      ],
      "execution_count": 171,
      "outputs": [
        {
          "output_type": "execute_result",
          "data": {
            "text/plain": [
              "4"
            ]
          },
          "metadata": {},
          "execution_count": 171
        }
      ]
    },
    {
      "cell_type": "code",
      "metadata": {
        "colab": {
          "base_uri": "https://localhost:8080/"
        },
        "id": "-ZLcPfl6B5iZ",
        "outputId": "88182c01-80ae-437e-d934-51c4af9f0cc6"
      },
      "source": [
        "A(1,6)  #set input1 = 1 input2=6"
      ],
      "execution_count": 172,
      "outputs": [
        {
          "output_type": "execute_result",
          "data": {
            "text/plain": [
              "7"
            ]
          },
          "metadata": {},
          "execution_count": 172
        }
      ]
    },
    {
      "cell_type": "code",
      "metadata": {
        "id": "_knKH9HOB8VK"
      },
      "source": [
        "def printlove(input1, input2 = 'stat', input3 = 'KKU'):\n",
        "    print(f'{input1} love {input2} {input3}')"
      ],
      "execution_count": 173,
      "outputs": []
    },
    {
      "cell_type": "code",
      "metadata": {
        "colab": {
          "base_uri": "https://localhost:8080/"
        },
        "id": "kk_lmKDHDL0M",
        "outputId": "d57c85ad-7ab2-42d9-e3df-c13f90c256a6"
      },
      "source": [
        "printlove('wikanes')"
      ],
      "execution_count": 174,
      "outputs": [
        {
          "output_type": "stream",
          "name": "stdout",
          "text": [
            "wikanes love stat KKU\n"
          ]
        }
      ]
    },
    {
      "cell_type": "code",
      "metadata": {
        "colab": {
          "base_uri": "https://localhost:8080/"
        },
        "id": "3Zot4kGzDRhs",
        "outputId": "b114b198-6efc-4045-b8b3-eb70a1c61a7f"
      },
      "source": [
        "printlove('wikanes','si','stat')"
      ],
      "execution_count": 175,
      "outputs": [
        {
          "output_type": "stream",
          "name": "stdout",
          "text": [
            "wikanes love si stat\n"
          ]
        }
      ]
    },
    {
      "cell_type": "code",
      "metadata": {
        "colab": {
          "base_uri": "https://localhost:8080/"
        },
        "id": "yFP8cPc4DcMF",
        "outputId": "effc756e-105d-40fe-b337-b86eb9397bdd"
      },
      "source": [
        "printlove(input3='wikanes',input2='Si',input1='kku') #สลับตำแหน่งได้"
      ],
      "execution_count": 176,
      "outputs": [
        {
          "output_type": "stream",
          "name": "stdout",
          "text": [
            "kku love Si wikanes\n"
          ]
        }
      ]
    },
    {
      "cell_type": "markdown",
      "metadata": {
        "id": "vB5xywN5FDEY"
      },
      "source": [
        "####Quiz4\n",
        "สร้างฟังก์ชัน\n",
        "\n",
        "\n",
        "*   วาดรูปบ้าน\n",
        "*   วาดรูปต้นไม้\n",
        "\n"
      ]
    },
    {
      "cell_type": "code",
      "metadata": {
        "id": "Uqn5QcsnDyzF"
      },
      "source": [
        "def  draw_rectQ():\n",
        "    print('          |          ')\n",
        "    print('         / \\         ')\n",
        "    print('        /   \\        ')\n",
        "    print('       /     \\              ****')\n",
        "    print('      /       \\ __      *******')\n",
        "    print('     /         \\  |    **********')\n",
        "    print('    /           \\ |  ************')\n",
        "    print('   /             \\| ************* ')\n",
        "    print('  /               \\ ************** ')\n",
        "    print(' /__________\\ ************')\n",
        "    print('|                   |    ********')\n",
        "    print('|                   |      |*****|')\n",
        "    print('|                   |      |        |')\n",
        "    print('|                   |      |        |')\n",
        "    print('|     _____     |      |        | ')\n",
        "    print('|     |       |     |      |        |')\n",
        "    print('|     |     *|     |      |        |')\n",
        "    print('|     |____|     |      |        |')\n",
        "    print('|___________|      |.........|')"
      ],
      "execution_count": 177,
      "outputs": []
    },
    {
      "cell_type": "code",
      "metadata": {
        "colab": {
          "base_uri": "https://localhost:8080/"
        },
        "id": "wDboEtzFHF95",
        "outputId": "e9c38ccc-85f5-4d4a-a44f-c74473556525"
      },
      "source": [
        "draw_rectQ()"
      ],
      "execution_count": 178,
      "outputs": [
        {
          "output_type": "stream",
          "name": "stdout",
          "text": [
            "          |          \n",
            "         / \\         \n",
            "        /   \\        \n",
            "       /     \\              ****\n",
            "      /       \\ __      *******\n",
            "     /         \\  |    **********\n",
            "    /           \\ |  ************\n",
            "   /             \\| ************* \n",
            "  /               \\ ************** \n",
            " /__________\\ ************\n",
            "|                   |    ********\n",
            "|                   |      |*****|\n",
            "|                   |      |        |\n",
            "|                   |      |        |\n",
            "|     _____     |      |        | \n",
            "|     |       |     |      |        |\n",
            "|     |     *|     |      |        |\n",
            "|     |____|     |      |        |\n",
            "|___________|      |.........|\n"
          ]
        }
      ]
    },
    {
      "cell_type": "code",
      "metadata": {
        "id": "dgzN_5rZHI9J"
      },
      "source": [
        ""
      ],
      "execution_count": 178,
      "outputs": []
    }
  ]
}