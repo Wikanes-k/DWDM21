{
  "nbformat": 4,
  "nbformat_minor": 0,
  "metadata": {
    "colab": {
      "name": "Distance Numpy.ipynb",
      "provenance": [],
      "authorship_tag": "ABX9TyMlLfeUiwv3t5Y+MWSUmAHv",
      "include_colab_link": true
    },
    "kernelspec": {
      "name": "python3",
      "display_name": "Python 3"
    },
    "language_info": {
      "name": "python"
    }
  },
  "cells": [
    {
      "cell_type": "markdown",
      "metadata": {
        "id": "view-in-github",
        "colab_type": "text"
      },
      "source": [
        "<a href=\"https://colab.research.google.com/github/Wikanes-k/DWDM21/blob/main/Distance_Numpy.ipynb\" target=\"_parent\"><img src=\"https://colab.research.google.com/assets/colab-badge.svg\" alt=\"Open In Colab\"/></a>"
      ]
    },
    {
      "cell_type": "code",
      "metadata": {
        "id": "u7unzgnVdn0U"
      },
      "source": [
        "import numpy as  np #package สำหรับทำงานกับข้อมูลที่เป็นตัวเลข (อยู่ในรูปแบบ matrix)"
      ],
      "execution_count": 1,
      "outputs": []
    },
    {
      "cell_type": "markdown",
      "metadata": {
        "id": "BH9fXM-Adv43"
      },
      "source": [
        "#Numpy Array"
      ]
    },
    {
      "cell_type": "markdown",
      "metadata": {
        "id": "61f1cX5jyA_d"
      },
      "source": [
        "##สร้าง numpy array (matrix)"
      ]
    },
    {
      "cell_type": "code",
      "metadata": {
        "id": "tbdlj7_BeK3r"
      },
      "source": [
        "np_a = np.array([[1,2,3],[4,5,6]]) #สร้าง numpy array ที่มี 2 แถว 3 หลัก"
      ],
      "execution_count": 2,
      "outputs": []
    },
    {
      "cell_type": "code",
      "metadata": {
        "id": "542lX9Fbyesa",
        "outputId": "3e42618c-77a3-4e9e-8cde-8f554281572a",
        "colab": {
          "base_uri": "https://localhost:8080/"
        }
      },
      "source": [
        "np_a"
      ],
      "execution_count": 4,
      "outputs": [
        {
          "output_type": "execute_result",
          "data": {
            "text/plain": [
              "array([[1, 2, 3],\n",
              "       [4, 5, 6]])"
            ]
          },
          "metadata": {},
          "execution_count": 4
        }
      ]
    },
    {
      "cell_type": "code",
      "metadata": {
        "id": "LbZ-14F8ygnK",
        "outputId": "d5b310e7-1891-4361-8200-125261647adf",
        "colab": {
          "base_uri": "https://localhost:8080/"
        }
      },
      "source": [
        "np_a.shape"
      ],
      "execution_count": 5,
      "outputs": [
        {
          "output_type": "execute_result",
          "data": {
            "text/plain": [
              "(2, 3)"
            ]
          },
          "metadata": {},
          "execution_count": 5
        }
      ]
    },
    {
      "cell_type": "code",
      "metadata": {
        "id": "I8Wjqrszyo2l",
        "outputId": "f9fa8cd6-b07f-4f96-e562-af01ee8d5adc",
        "colab": {
          "base_uri": "https://localhost:8080/"
        }
      },
      "source": [
        "np_b = np.array([[1,4],[2,5],[3,6]]) \n",
        "np_b"
      ],
      "execution_count": 6,
      "outputs": [
        {
          "output_type": "execute_result",
          "data": {
            "text/plain": [
              "array([[1, 4],\n",
              "       [2, 5],\n",
              "       [3, 6]])"
            ]
          },
          "metadata": {},
          "execution_count": 6
        }
      ]
    },
    {
      "cell_type": "markdown",
      "metadata": {
        "id": "FTlV0uBMy5oM"
      },
      "source": [
        "##matrix transpose"
      ]
    },
    {
      "cell_type": "code",
      "metadata": {
        "id": "cQxi13u9y22X",
        "outputId": "007fc66f-90bc-4579-ee25-30eda439c7a5",
        "colab": {
          "base_uri": "https://localhost:8080/"
        }
      },
      "source": [
        "np_a.T"
      ],
      "execution_count": 7,
      "outputs": [
        {
          "output_type": "execute_result",
          "data": {
            "text/plain": [
              "array([[1, 4],\n",
              "       [2, 5],\n",
              "       [3, 6]])"
            ]
          },
          "metadata": {},
          "execution_count": 7
        }
      ]
    },
    {
      "cell_type": "markdown",
      "metadata": {
        "id": "O0-FWHAtzL_E"
      },
      "source": [
        "###สร้าง matrix เริ่มต้น (zeros, ones)"
      ]
    },
    {
      "cell_type": "code",
      "metadata": {
        "id": "IcasNktZzKOF",
        "outputId": "2cf5e06e-f668-4f40-c7f8-eb64d8c9eda8",
        "colab": {
          "base_uri": "https://localhost:8080/"
        }
      },
      "source": [
        "np_z = np.zeros((4,5))\n",
        "np_z"
      ],
      "execution_count": 9,
      "outputs": [
        {
          "output_type": "execute_result",
          "data": {
            "text/plain": [
              "array([[0., 0., 0., 0., 0.],\n",
              "       [0., 0., 0., 0., 0.],\n",
              "       [0., 0., 0., 0., 0.],\n",
              "       [0., 0., 0., 0., 0.]])"
            ]
          },
          "metadata": {},
          "execution_count": 9
        }
      ]
    },
    {
      "cell_type": "code",
      "metadata": {
        "id": "8V7RtGckzuIX",
        "outputId": "d80726c1-233f-4f19-b781-34e7af0608fe",
        "colab": {
          "base_uri": "https://localhost:8080/"
        }
      },
      "source": [
        "np_o = np.ones((5,6))\n",
        "np_o"
      ],
      "execution_count": 10,
      "outputs": [
        {
          "output_type": "execute_result",
          "data": {
            "text/plain": [
              "array([[1., 1., 1., 1., 1., 1.],\n",
              "       [1., 1., 1., 1., 1., 1.],\n",
              "       [1., 1., 1., 1., 1., 1.],\n",
              "       [1., 1., 1., 1., 1., 1.],\n",
              "       [1., 1., 1., 1., 1., 1.]])"
            ]
          },
          "metadata": {},
          "execution_count": 10
        }
      ]
    },
    {
      "cell_type": "code",
      "metadata": {
        "id": "3f4Kq0G-z4-s",
        "outputId": "b5b4aa4b-1d56-4cc6-9cbb-0fa5f1f46bc7",
        "colab": {
          "base_uri": "https://localhost:8080/"
        }
      },
      "source": [
        "np_200 = 200 * np.ones((5,6))\n",
        "np_200"
      ],
      "execution_count": 11,
      "outputs": [
        {
          "output_type": "execute_result",
          "data": {
            "text/plain": [
              "array([[200., 200., 200., 200., 200., 200.],\n",
              "       [200., 200., 200., 200., 200., 200.],\n",
              "       [200., 200., 200., 200., 200., 200.],\n",
              "       [200., 200., 200., 200., 200., 200.],\n",
              "       [200., 200., 200., 200., 200., 200.]])"
            ]
          },
          "metadata": {},
          "execution_count": 11
        }
      ]
    },
    {
      "cell_type": "markdown",
      "metadata": {
        "id": "Ho9HmUN30Kub"
      },
      "source": [
        "##สร้าง matrix random"
      ]
    },
    {
      "cell_type": "code",
      "metadata": {
        "id": "U5VfjeK70F5A",
        "outputId": "9c38ffc7-09d9-4c5e-d692-c8eee8f8cf54",
        "colab": {
          "base_uri": "https://localhost:8080/"
        }
      },
      "source": [
        "np.random.randn(5,5) #random เลจมาจาก normal distribution ที่มี mu=0 std=1"
      ],
      "execution_count": 13,
      "outputs": [
        {
          "output_type": "execute_result",
          "data": {
            "text/plain": [
              "array([[ 0.00424959,  0.84895418,  0.83417566,  0.60915189, -0.90977597],\n",
              "       [-0.08850185,  0.43311931, -1.33533274, -0.14469858,  0.68977907],\n",
              "       [-0.2434641 , -0.50986025,  0.52745005,  0.47039225, -0.29596791],\n",
              "       [-0.86856127,  0.64899406, -0.61673052,  0.92873051,  1.35345392],\n",
              "       [-1.50582927,  0.38241608,  0.02816371,  1.45176184,  0.52283917]])"
            ]
          },
          "metadata": {},
          "execution_count": 13
        }
      ]
    },
    {
      "cell_type": "code",
      "metadata": {
        "id": "GSfaulbL0ZgX",
        "outputId": "8bb048e9-4d90-4681-c079-0ed075bc8eae",
        "colab": {
          "base_uri": "https://localhost:8080/"
        }
      },
      "source": [
        "2+(5*np.random.randn(3,3)) #random เลจมาจาก normal distribution ที่มี mu=2 std=5"
      ],
      "execution_count": 15,
      "outputs": [
        {
          "output_type": "execute_result",
          "data": {
            "text/plain": [
              "array([[ 6.52196852, -0.29341539, -2.58510459],\n",
              "       [ 5.01836176,  1.52646965, -0.23518108],\n",
              "       [-1.6088014 ,  6.52986263,  5.27299481]])"
            ]
          },
          "metadata": {},
          "execution_count": 15
        }
      ]
    },
    {
      "cell_type": "code",
      "metadata": {
        "id": "r43bmEX900f-",
        "outputId": "7e3da4ac-8dd9-4581-8b15-a5ae99922339",
        "colab": {
          "base_uri": "https://localhost:8080/"
        }
      },
      "source": [
        "np.random.randint(5,11,(4,5)) #random เลขจำนวนเต็ม ระหว่าง [5,11) ขนาด (4*5)"
      ],
      "execution_count": 16,
      "outputs": [
        {
          "output_type": "execute_result",
          "data": {
            "text/plain": [
              "array([[ 8,  8,  7, 10,  9],\n",
              "       [10,  8,  9,  7, 10],\n",
              "       [ 8,  5,  9,  8,  8],\n",
              "       [ 5,  9,  8,  7,  8]])"
            ]
          },
          "metadata": {},
          "execution_count": 16
        }
      ]
    },
    {
      "cell_type": "code",
      "metadata": {
        "id": "uTreQ9341RfO"
      },
      "source": [
        ""
      ],
      "execution_count": null,
      "outputs": []
    }
  ]
}