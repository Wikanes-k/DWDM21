{
  "nbformat": 4,
  "nbformat_minor": 0,
  "metadata": {
    "colab": {
      "name": "Project_Final.ipynb",
      "provenance": [],
      "authorship_tag": "ABX9TyMePwqDG7mfRNQcU5P+moiv",
      "include_colab_link": true
    },
    "kernelspec": {
      "name": "python3",
      "display_name": "Python 3"
    },
    "language_info": {
      "name": "python"
    }
  },
  "cells": [
    {
      "cell_type": "markdown",
      "metadata": {
        "id": "view-in-github",
        "colab_type": "text"
      },
      "source": [
        "<a href=\"https://colab.research.google.com/github/Wikanes-k/DWDM21/blob/main/Project_Final.ipynb\" target=\"_parent\"><img src=\"https://colab.research.google.com/assets/colab-badge.svg\" alt=\"Open In Colab\"/></a>"
      ]
    },
    {
      "cell_type": "code",
      "execution_count": 3,
      "metadata": {
        "id": "IUGbVwge94D1"
      },
      "outputs": [],
      "source": [
        "import pandas as pd #ส่วนของการ Import\n",
        "import os"
      ]
    },
    {
      "cell_type": "code",
      "source": [
        "from google.colab import drive  #เชื่อม google drive\n",
        "drive.mount('/content/drive')\n",
        "path = '/content/drive/My Drive/Dataviz_2022'   #pathจะชี้ไปยังโฟล์เดอร์"
      ],
      "metadata": {
        "colab": {
          "base_uri": "https://localhost:8080/"
        },
        "id": "H9K4C-5j_PNa",
        "outputId": "81fcb57e-aad0-4137-ebc3-1877e3e54050"
      },
      "execution_count": 14,
      "outputs": [
        {
          "output_type": "stream",
          "name": "stdout",
          "text": [
            "Drive already mounted at /content/drive; to attempt to forcibly remount, call drive.mount(\"/content/drive\", force_remount=True).\n"
          ]
        }
      ]
    },
    {
      "cell_type": "code",
      "source": [
        "data_file_path = os.path.join(path,'stat_c64.xlsx') #แล้วก็ชี้ไปที่ไฟล์\n",
        "print(data_file_path)"
      ],
      "metadata": {
        "colab": {
          "base_uri": "https://localhost:8080/"
        },
        "id": "GguB-gAsmydI",
        "outputId": "805dfe79-520e-4652-f061-ba73d763b845"
      },
      "execution_count": 17,
      "outputs": [
        {
          "output_type": "stream",
          "name": "stdout",
          "text": [
            "/content/drive/My Drive/Dataviz_2022/stat_c64.xlsx\n"
          ]
        }
      ]
    },
    {
      "cell_type": "code",
      "source": [
        "data_covid = pd.read_excel(data_file_path)  #กำหนดตัวแปร data_covid เป็นข้อมูลของผู้ป่วยโควิด\n",
        "data_covid "
      ],
      "metadata": {
        "colab": {
          "base_uri": "https://localhost:8080/",
          "height": 423
        },
        "id": "_BAQpH-vnJC6",
        "outputId": "6bc89869-b49a-49ea-ea60-e04bf2db1484"
      },
      "execution_count": 18,
      "outputs": [
        {
          "output_type": "execute_result",
          "data": {
            "text/plain": [
              "   ปีเดือน  รหัส    ชื่อจังหวัด  จำนวนประชากรชาย  จำนวนประชากรหญิง  \\\n",
              "0    ﻿6412     0     ทั่วประเทศ         32339118          33832321   \n",
              "1     6412    10  กรุงเทพมหานคร          2592292           2935702   \n",
              "2     6412    11    สมุทรปราการ           645884            710565   \n",
              "3     6412    12        นนทบุรี           599167            689470   \n",
              "4     6412    13       ปทุมธานี           563851            626209   \n",
              "..     ...   ...            ...              ...               ...   \n",
              "73    6412    92           ตรัง           312693            327095   \n",
              "74    6412    93         พัทลุง           254425            268116   \n",
              "75    6412    94        ปัตตานี           360348            369233   \n",
              "76    6412    95           ยะลา           269907            272407   \n",
              "77    6412    96       นราธิวาส           400501            409159   \n",
              "\n",
              "    จำนวนประชากรทั้งหมด  จำนวนบ้าน (หลังคาเรือน)  \n",
              "0              66171439                 27708635  \n",
              "1               5527994                  3147231  \n",
              "2               1356449                   733185  \n",
              "3               1288637                   728953  \n",
              "4               1190060                   660020  \n",
              "..                  ...                      ...  \n",
              "73               639788                   237935  \n",
              "74               522541                   199687  \n",
              "75               729581                   199103  \n",
              "76               542314                   173226  \n",
              "77               809660                   223141  \n",
              "\n",
              "[78 rows x 7 columns]"
            ],
            "text/html": [
              "\n",
              "  <div id=\"df-ace1a672-cbdb-4da3-8ac1-ba89e5e5b5b5\">\n",
              "    <div class=\"colab-df-container\">\n",
              "      <div>\n",
              "<style scoped>\n",
              "    .dataframe tbody tr th:only-of-type {\n",
              "        vertical-align: middle;\n",
              "    }\n",
              "\n",
              "    .dataframe tbody tr th {\n",
              "        vertical-align: top;\n",
              "    }\n",
              "\n",
              "    .dataframe thead th {\n",
              "        text-align: right;\n",
              "    }\n",
              "</style>\n",
              "<table border=\"1\" class=\"dataframe\">\n",
              "  <thead>\n",
              "    <tr style=\"text-align: right;\">\n",
              "      <th></th>\n",
              "      <th>ปีเดือน</th>\n",
              "      <th>รหัส</th>\n",
              "      <th>ชื่อจังหวัด</th>\n",
              "      <th>จำนวนประชากรชาย</th>\n",
              "      <th>จำนวนประชากรหญิง</th>\n",
              "      <th>จำนวนประชากรทั้งหมด</th>\n",
              "      <th>จำนวนบ้าน (หลังคาเรือน)</th>\n",
              "    </tr>\n",
              "  </thead>\n",
              "  <tbody>\n",
              "    <tr>\n",
              "      <th>0</th>\n",
              "      <td>﻿6412</td>\n",
              "      <td>0</td>\n",
              "      <td>ทั่วประเทศ</td>\n",
              "      <td>32339118</td>\n",
              "      <td>33832321</td>\n",
              "      <td>66171439</td>\n",
              "      <td>27708635</td>\n",
              "    </tr>\n",
              "    <tr>\n",
              "      <th>1</th>\n",
              "      <td>6412</td>\n",
              "      <td>10</td>\n",
              "      <td>กรุงเทพมหานคร</td>\n",
              "      <td>2592292</td>\n",
              "      <td>2935702</td>\n",
              "      <td>5527994</td>\n",
              "      <td>3147231</td>\n",
              "    </tr>\n",
              "    <tr>\n",
              "      <th>2</th>\n",
              "      <td>6412</td>\n",
              "      <td>11</td>\n",
              "      <td>สมุทรปราการ</td>\n",
              "      <td>645884</td>\n",
              "      <td>710565</td>\n",
              "      <td>1356449</td>\n",
              "      <td>733185</td>\n",
              "    </tr>\n",
              "    <tr>\n",
              "      <th>3</th>\n",
              "      <td>6412</td>\n",
              "      <td>12</td>\n",
              "      <td>นนทบุรี</td>\n",
              "      <td>599167</td>\n",
              "      <td>689470</td>\n",
              "      <td>1288637</td>\n",
              "      <td>728953</td>\n",
              "    </tr>\n",
              "    <tr>\n",
              "      <th>4</th>\n",
              "      <td>6412</td>\n",
              "      <td>13</td>\n",
              "      <td>ปทุมธานี</td>\n",
              "      <td>563851</td>\n",
              "      <td>626209</td>\n",
              "      <td>1190060</td>\n",
              "      <td>660020</td>\n",
              "    </tr>\n",
              "    <tr>\n",
              "      <th>...</th>\n",
              "      <td>...</td>\n",
              "      <td>...</td>\n",
              "      <td>...</td>\n",
              "      <td>...</td>\n",
              "      <td>...</td>\n",
              "      <td>...</td>\n",
              "      <td>...</td>\n",
              "    </tr>\n",
              "    <tr>\n",
              "      <th>73</th>\n",
              "      <td>6412</td>\n",
              "      <td>92</td>\n",
              "      <td>ตรัง</td>\n",
              "      <td>312693</td>\n",
              "      <td>327095</td>\n",
              "      <td>639788</td>\n",
              "      <td>237935</td>\n",
              "    </tr>\n",
              "    <tr>\n",
              "      <th>74</th>\n",
              "      <td>6412</td>\n",
              "      <td>93</td>\n",
              "      <td>พัทลุง</td>\n",
              "      <td>254425</td>\n",
              "      <td>268116</td>\n",
              "      <td>522541</td>\n",
              "      <td>199687</td>\n",
              "    </tr>\n",
              "    <tr>\n",
              "      <th>75</th>\n",
              "      <td>6412</td>\n",
              "      <td>94</td>\n",
              "      <td>ปัตตานี</td>\n",
              "      <td>360348</td>\n",
              "      <td>369233</td>\n",
              "      <td>729581</td>\n",
              "      <td>199103</td>\n",
              "    </tr>\n",
              "    <tr>\n",
              "      <th>76</th>\n",
              "      <td>6412</td>\n",
              "      <td>95</td>\n",
              "      <td>ยะลา</td>\n",
              "      <td>269907</td>\n",
              "      <td>272407</td>\n",
              "      <td>542314</td>\n",
              "      <td>173226</td>\n",
              "    </tr>\n",
              "    <tr>\n",
              "      <th>77</th>\n",
              "      <td>6412</td>\n",
              "      <td>96</td>\n",
              "      <td>นราธิวาส</td>\n",
              "      <td>400501</td>\n",
              "      <td>409159</td>\n",
              "      <td>809660</td>\n",
              "      <td>223141</td>\n",
              "    </tr>\n",
              "  </tbody>\n",
              "</table>\n",
              "<p>78 rows × 7 columns</p>\n",
              "</div>\n",
              "      <button class=\"colab-df-convert\" onclick=\"convertToInteractive('df-ace1a672-cbdb-4da3-8ac1-ba89e5e5b5b5')\"\n",
              "              title=\"Convert this dataframe to an interactive table.\"\n",
              "              style=\"display:none;\">\n",
              "        \n",
              "  <svg xmlns=\"http://www.w3.org/2000/svg\" height=\"24px\"viewBox=\"0 0 24 24\"\n",
              "       width=\"24px\">\n",
              "    <path d=\"M0 0h24v24H0V0z\" fill=\"none\"/>\n",
              "    <path d=\"M18.56 5.44l.94 2.06.94-2.06 2.06-.94-2.06-.94-.94-2.06-.94 2.06-2.06.94zm-11 1L8.5 8.5l.94-2.06 2.06-.94-2.06-.94L8.5 2.5l-.94 2.06-2.06.94zm10 10l.94 2.06.94-2.06 2.06-.94-2.06-.94-.94-2.06-.94 2.06-2.06.94z\"/><path d=\"M17.41 7.96l-1.37-1.37c-.4-.4-.92-.59-1.43-.59-.52 0-1.04.2-1.43.59L10.3 9.45l-7.72 7.72c-.78.78-.78 2.05 0 2.83L4 21.41c.39.39.9.59 1.41.59.51 0 1.02-.2 1.41-.59l7.78-7.78 2.81-2.81c.8-.78.8-2.07 0-2.86zM5.41 20L4 18.59l7.72-7.72 1.47 1.35L5.41 20z\"/>\n",
              "  </svg>\n",
              "      </button>\n",
              "      \n",
              "  <style>\n",
              "    .colab-df-container {\n",
              "      display:flex;\n",
              "      flex-wrap:wrap;\n",
              "      gap: 12px;\n",
              "    }\n",
              "\n",
              "    .colab-df-convert {\n",
              "      background-color: #E8F0FE;\n",
              "      border: none;\n",
              "      border-radius: 50%;\n",
              "      cursor: pointer;\n",
              "      display: none;\n",
              "      fill: #1967D2;\n",
              "      height: 32px;\n",
              "      padding: 0 0 0 0;\n",
              "      width: 32px;\n",
              "    }\n",
              "\n",
              "    .colab-df-convert:hover {\n",
              "      background-color: #E2EBFA;\n",
              "      box-shadow: 0px 1px 2px rgba(60, 64, 67, 0.3), 0px 1px 3px 1px rgba(60, 64, 67, 0.15);\n",
              "      fill: #174EA6;\n",
              "    }\n",
              "\n",
              "    [theme=dark] .colab-df-convert {\n",
              "      background-color: #3B4455;\n",
              "      fill: #D2E3FC;\n",
              "    }\n",
              "\n",
              "    [theme=dark] .colab-df-convert:hover {\n",
              "      background-color: #434B5C;\n",
              "      box-shadow: 0px 1px 3px 1px rgba(0, 0, 0, 0.15);\n",
              "      filter: drop-shadow(0px 1px 2px rgba(0, 0, 0, 0.3));\n",
              "      fill: #FFFFFF;\n",
              "    }\n",
              "  </style>\n",
              "\n",
              "      <script>\n",
              "        const buttonEl =\n",
              "          document.querySelector('#df-ace1a672-cbdb-4da3-8ac1-ba89e5e5b5b5 button.colab-df-convert');\n",
              "        buttonEl.style.display =\n",
              "          google.colab.kernel.accessAllowed ? 'block' : 'none';\n",
              "\n",
              "        async function convertToInteractive(key) {\n",
              "          const element = document.querySelector('#df-ace1a672-cbdb-4da3-8ac1-ba89e5e5b5b5');\n",
              "          const dataTable =\n",
              "            await google.colab.kernel.invokeFunction('convertToInteractive',\n",
              "                                                     [key], {});\n",
              "          if (!dataTable) return;\n",
              "\n",
              "          const docLinkHtml = 'Like what you see? Visit the ' +\n",
              "            '<a target=\"_blank\" href=https://colab.research.google.com/notebooks/data_table.ipynb>data table notebook</a>'\n",
              "            + ' to learn more about interactive tables.';\n",
              "          element.innerHTML = '';\n",
              "          dataTable['output_type'] = 'display_data';\n",
              "          await google.colab.output.renderOutput(dataTable, element);\n",
              "          const docLink = document.createElement('div');\n",
              "          docLink.innerHTML = docLinkHtml;\n",
              "          element.appendChild(docLink);\n",
              "        }\n",
              "      </script>\n",
              "    </div>\n",
              "  </div>\n",
              "  "
            ]
          },
          "metadata": {},
          "execution_count": 18
        }
      ]
    },
    {
      "cell_type": "code",
      "source": [
        ""
      ],
      "metadata": {
        "id": "4OzJoKwTp9T_"
      },
      "execution_count": null,
      "outputs": []
    }
  ]
}